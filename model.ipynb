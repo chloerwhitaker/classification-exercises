{
 "cells": [
  {
   "cell_type": "code",
   "execution_count": 166,
   "id": "df61216b",
   "metadata": {},
   "outputs": [],
   "source": [
    "import warnings\n",
    "warnings.filterwarnings(\"ignore\")\n",
    "\n",
    "import numpy as np\n",
    "import pandas as pd \n",
    "\n",
    "from pydataset import data\n",
    "\n",
    "from sklearn.model_selection import train_test_split\n",
    "from sklearn.tree import DecisionTreeClassifier\n",
    "from sklearn.tree import export_graphviz\n",
    "from sklearn.metrics import classification_report\n",
    "from sklearn.metrics import confusion_matrix\n",
    "from sklearn.ensemble import RandomForestClassifier\n",
    "\n",
    "import matplotlib.pyplot as plt\n",
    "import seaborn as sns"
   ]
  },
  {
   "cell_type": "code",
   "execution_count": 72,
   "id": "98806b17",
   "metadata": {},
   "outputs": [],
   "source": [
    "import acquire"
   ]
  },
  {
   "cell_type": "markdown",
   "id": "c033d84e",
   "metadata": {},
   "source": [
    "# Decision Tree Model Exercises"
   ]
  },
  {
   "cell_type": "markdown",
   "id": "58814cfd",
   "metadata": {},
   "source": [
    "### Decicion Tree with the Titanic Data"
   ]
  },
  {
   "cell_type": "code",
   "execution_count": 73,
   "id": "24e86cc5",
   "metadata": {},
   "outputs": [],
   "source": [
    "# Aquire: "
   ]
  },
  {
   "cell_type": "code",
   "execution_count": 74,
   "id": "5e72cefa",
   "metadata": {},
   "outputs": [
    {
     "data": {
      "text/html": [
       "<div>\n",
       "<style scoped>\n",
       "    .dataframe tbody tr th:only-of-type {\n",
       "        vertical-align: middle;\n",
       "    }\n",
       "\n",
       "    .dataframe tbody tr th {\n",
       "        vertical-align: top;\n",
       "    }\n",
       "\n",
       "    .dataframe thead th {\n",
       "        text-align: right;\n",
       "    }\n",
       "</style>\n",
       "<table border=\"1\" class=\"dataframe\">\n",
       "  <thead>\n",
       "    <tr style=\"text-align: right;\">\n",
       "      <th></th>\n",
       "      <th>passenger_id</th>\n",
       "      <th>survived</th>\n",
       "      <th>pclass</th>\n",
       "      <th>sex</th>\n",
       "      <th>age</th>\n",
       "      <th>sibsp</th>\n",
       "      <th>parch</th>\n",
       "      <th>fare</th>\n",
       "      <th>embarked</th>\n",
       "      <th>class</th>\n",
       "      <th>deck</th>\n",
       "      <th>embark_town</th>\n",
       "      <th>alone</th>\n",
       "    </tr>\n",
       "  </thead>\n",
       "  <tbody>\n",
       "    <tr>\n",
       "      <th>0</th>\n",
       "      <td>0</td>\n",
       "      <td>0</td>\n",
       "      <td>3</td>\n",
       "      <td>male</td>\n",
       "      <td>22.0</td>\n",
       "      <td>1</td>\n",
       "      <td>0</td>\n",
       "      <td>7.2500</td>\n",
       "      <td>S</td>\n",
       "      <td>Third</td>\n",
       "      <td>NaN</td>\n",
       "      <td>Southampton</td>\n",
       "      <td>0</td>\n",
       "    </tr>\n",
       "    <tr>\n",
       "      <th>1</th>\n",
       "      <td>1</td>\n",
       "      <td>1</td>\n",
       "      <td>1</td>\n",
       "      <td>female</td>\n",
       "      <td>38.0</td>\n",
       "      <td>1</td>\n",
       "      <td>0</td>\n",
       "      <td>71.2833</td>\n",
       "      <td>C</td>\n",
       "      <td>First</td>\n",
       "      <td>C</td>\n",
       "      <td>Cherbourg</td>\n",
       "      <td>0</td>\n",
       "    </tr>\n",
       "    <tr>\n",
       "      <th>2</th>\n",
       "      <td>2</td>\n",
       "      <td>1</td>\n",
       "      <td>3</td>\n",
       "      <td>female</td>\n",
       "      <td>26.0</td>\n",
       "      <td>0</td>\n",
       "      <td>0</td>\n",
       "      <td>7.9250</td>\n",
       "      <td>S</td>\n",
       "      <td>Third</td>\n",
       "      <td>NaN</td>\n",
       "      <td>Southampton</td>\n",
       "      <td>1</td>\n",
       "    </tr>\n",
       "    <tr>\n",
       "      <th>3</th>\n",
       "      <td>3</td>\n",
       "      <td>1</td>\n",
       "      <td>1</td>\n",
       "      <td>female</td>\n",
       "      <td>35.0</td>\n",
       "      <td>1</td>\n",
       "      <td>0</td>\n",
       "      <td>53.1000</td>\n",
       "      <td>S</td>\n",
       "      <td>First</td>\n",
       "      <td>C</td>\n",
       "      <td>Southampton</td>\n",
       "      <td>0</td>\n",
       "    </tr>\n",
       "    <tr>\n",
       "      <th>4</th>\n",
       "      <td>4</td>\n",
       "      <td>0</td>\n",
       "      <td>3</td>\n",
       "      <td>male</td>\n",
       "      <td>35.0</td>\n",
       "      <td>0</td>\n",
       "      <td>0</td>\n",
       "      <td>8.0500</td>\n",
       "      <td>S</td>\n",
       "      <td>Third</td>\n",
       "      <td>NaN</td>\n",
       "      <td>Southampton</td>\n",
       "      <td>1</td>\n",
       "    </tr>\n",
       "  </tbody>\n",
       "</table>\n",
       "</div>"
      ],
      "text/plain": [
       "   passenger_id  survived  pclass     sex   age  sibsp  parch     fare  \\\n",
       "0             0         0       3    male  22.0      1      0   7.2500   \n",
       "1             1         1       1  female  38.0      1      0  71.2833   \n",
       "2             2         1       3  female  26.0      0      0   7.9250   \n",
       "3             3         1       1  female  35.0      1      0  53.1000   \n",
       "4             4         0       3    male  35.0      0      0   8.0500   \n",
       "\n",
       "  embarked  class deck  embark_town  alone  \n",
       "0        S  Third  NaN  Southampton      0  \n",
       "1        C  First    C    Cherbourg      0  \n",
       "2        S  Third  NaN  Southampton      1  \n",
       "3        S  First    C  Southampton      0  \n",
       "4        S  Third  NaN  Southampton      1  "
      ]
     },
     "execution_count": 74,
     "metadata": {},
     "output_type": "execute_result"
    }
   ],
   "source": [
    "titanic_df = acquire.get_titanic_data()\n",
    "titanic_df.head()"
   ]
  },
  {
   "cell_type": "code",
   "execution_count": 75,
   "id": "8c0368a7",
   "metadata": {},
   "outputs": [],
   "source": [
    "# Preoare: "
   ]
  },
  {
   "cell_type": "code",
   "execution_count": 76,
   "id": "0a8bd04d",
   "metadata": {},
   "outputs": [],
   "source": [
    "def prep_titanic(titanic_df):\n",
    "    '''\n",
    "    This function will clean the titanic data...\n",
    "    '''\n",
    "    titanic_df = titanic_df.drop_duplicates()\n",
    "    cols_to_drop = ['deck', 'embarked', 'class', 'age']\n",
    "    titanic_df = titanic_df.drop(columns=cols_to_drop)\n",
    "    titanic_df.embark_town = titanic_df.embark_town.fillna(value=titanic_df.embark_town.mode())\n",
    "    dummy_df = pd.get_dummies(titanic_df[['sex', 'embark_town']], dummy_na=False, drop_first=[True, True])\n",
    "    titanic_df = pd.concat([titanic_df, dummy_df], axis=1)\n",
    "    return titanic_df"
   ]
  },
  {
   "cell_type": "code",
   "execution_count": 77,
   "id": "74666310",
   "metadata": {},
   "outputs": [
    {
     "data": {
      "text/html": [
       "<div>\n",
       "<style scoped>\n",
       "    .dataframe tbody tr th:only-of-type {\n",
       "        vertical-align: middle;\n",
       "    }\n",
       "\n",
       "    .dataframe tbody tr th {\n",
       "        vertical-align: top;\n",
       "    }\n",
       "\n",
       "    .dataframe thead th {\n",
       "        text-align: right;\n",
       "    }\n",
       "</style>\n",
       "<table border=\"1\" class=\"dataframe\">\n",
       "  <thead>\n",
       "    <tr style=\"text-align: right;\">\n",
       "      <th></th>\n",
       "      <th>passenger_id</th>\n",
       "      <th>survived</th>\n",
       "      <th>pclass</th>\n",
       "      <th>sex</th>\n",
       "      <th>sibsp</th>\n",
       "      <th>parch</th>\n",
       "      <th>fare</th>\n",
       "      <th>embark_town</th>\n",
       "      <th>alone</th>\n",
       "      <th>sex_male</th>\n",
       "      <th>embark_town_Queenstown</th>\n",
       "      <th>embark_town_Southampton</th>\n",
       "    </tr>\n",
       "  </thead>\n",
       "  <tbody>\n",
       "    <tr>\n",
       "      <th>0</th>\n",
       "      <td>0</td>\n",
       "      <td>0</td>\n",
       "      <td>3</td>\n",
       "      <td>male</td>\n",
       "      <td>1</td>\n",
       "      <td>0</td>\n",
       "      <td>7.2500</td>\n",
       "      <td>Southampton</td>\n",
       "      <td>0</td>\n",
       "      <td>1</td>\n",
       "      <td>0</td>\n",
       "      <td>1</td>\n",
       "    </tr>\n",
       "    <tr>\n",
       "      <th>1</th>\n",
       "      <td>1</td>\n",
       "      <td>1</td>\n",
       "      <td>1</td>\n",
       "      <td>female</td>\n",
       "      <td>1</td>\n",
       "      <td>0</td>\n",
       "      <td>71.2833</td>\n",
       "      <td>Cherbourg</td>\n",
       "      <td>0</td>\n",
       "      <td>0</td>\n",
       "      <td>0</td>\n",
       "      <td>0</td>\n",
       "    </tr>\n",
       "    <tr>\n",
       "      <th>2</th>\n",
       "      <td>2</td>\n",
       "      <td>1</td>\n",
       "      <td>3</td>\n",
       "      <td>female</td>\n",
       "      <td>0</td>\n",
       "      <td>0</td>\n",
       "      <td>7.9250</td>\n",
       "      <td>Southampton</td>\n",
       "      <td>1</td>\n",
       "      <td>0</td>\n",
       "      <td>0</td>\n",
       "      <td>1</td>\n",
       "    </tr>\n",
       "    <tr>\n",
       "      <th>3</th>\n",
       "      <td>3</td>\n",
       "      <td>1</td>\n",
       "      <td>1</td>\n",
       "      <td>female</td>\n",
       "      <td>1</td>\n",
       "      <td>0</td>\n",
       "      <td>53.1000</td>\n",
       "      <td>Southampton</td>\n",
       "      <td>0</td>\n",
       "      <td>0</td>\n",
       "      <td>0</td>\n",
       "      <td>1</td>\n",
       "    </tr>\n",
       "    <tr>\n",
       "      <th>4</th>\n",
       "      <td>4</td>\n",
       "      <td>0</td>\n",
       "      <td>3</td>\n",
       "      <td>male</td>\n",
       "      <td>0</td>\n",
       "      <td>0</td>\n",
       "      <td>8.0500</td>\n",
       "      <td>Southampton</td>\n",
       "      <td>1</td>\n",
       "      <td>1</td>\n",
       "      <td>0</td>\n",
       "      <td>1</td>\n",
       "    </tr>\n",
       "  </tbody>\n",
       "</table>\n",
       "</div>"
      ],
      "text/plain": [
       "   passenger_id  survived  pclass     sex  sibsp  parch     fare  embark_town  \\\n",
       "0             0         0       3    male      1      0   7.2500  Southampton   \n",
       "1             1         1       1  female      1      0  71.2833    Cherbourg   \n",
       "2             2         1       3  female      0      0   7.9250  Southampton   \n",
       "3             3         1       1  female      1      0  53.1000  Southampton   \n",
       "4             4         0       3    male      0      0   8.0500  Southampton   \n",
       "\n",
       "   alone  sex_male  embark_town_Queenstown  embark_town_Southampton  \n",
       "0      0         1                       0                        1  \n",
       "1      0         0                       0                        0  \n",
       "2      1         0                       0                        1  \n",
       "3      0         0                       0                        1  \n",
       "4      1         1                       0                        1  "
      ]
     },
     "execution_count": 77,
     "metadata": {},
     "output_type": "execute_result"
    }
   ],
   "source": [
    "titanic_df = prep_titanic(titanic_df)\n",
    "titanic_df.head()"
   ]
  },
  {
   "cell_type": "code",
   "execution_count": 78,
   "id": "e4c5bbcf",
   "metadata": {},
   "outputs": [],
   "source": [
    "titanic_df = titanic_df.drop(columns=['sex', 'embark_town'])"
   ]
  },
  {
   "cell_type": "code",
   "execution_count": 79,
   "id": "7ad07429",
   "metadata": {},
   "outputs": [
    {
     "data": {
      "text/plain": [
       "(891, 10)"
      ]
     },
     "execution_count": 79,
     "metadata": {},
     "output_type": "execute_result"
    }
   ],
   "source": [
    "titanic_df.shape"
   ]
  },
  {
   "cell_type": "code",
   "execution_count": 80,
   "id": "3bfeeec0",
   "metadata": {},
   "outputs": [
    {
     "data": {
      "text/html": [
       "<div>\n",
       "<style scoped>\n",
       "    .dataframe tbody tr th:only-of-type {\n",
       "        vertical-align: middle;\n",
       "    }\n",
       "\n",
       "    .dataframe tbody tr th {\n",
       "        vertical-align: top;\n",
       "    }\n",
       "\n",
       "    .dataframe thead th {\n",
       "        text-align: right;\n",
       "    }\n",
       "</style>\n",
       "<table border=\"1\" class=\"dataframe\">\n",
       "  <thead>\n",
       "    <tr style=\"text-align: right;\">\n",
       "      <th></th>\n",
       "      <th>passenger_id</th>\n",
       "      <th>survived</th>\n",
       "      <th>pclass</th>\n",
       "      <th>sibsp</th>\n",
       "      <th>parch</th>\n",
       "      <th>fare</th>\n",
       "      <th>alone</th>\n",
       "      <th>sex_male</th>\n",
       "      <th>embark_town_Queenstown</th>\n",
       "      <th>embark_town_Southampton</th>\n",
       "    </tr>\n",
       "  </thead>\n",
       "  <tbody>\n",
       "    <tr>\n",
       "      <th>0</th>\n",
       "      <td>0</td>\n",
       "      <td>0</td>\n",
       "      <td>3</td>\n",
       "      <td>1</td>\n",
       "      <td>0</td>\n",
       "      <td>7.2500</td>\n",
       "      <td>0</td>\n",
       "      <td>1</td>\n",
       "      <td>0</td>\n",
       "      <td>1</td>\n",
       "    </tr>\n",
       "    <tr>\n",
       "      <th>1</th>\n",
       "      <td>1</td>\n",
       "      <td>1</td>\n",
       "      <td>1</td>\n",
       "      <td>1</td>\n",
       "      <td>0</td>\n",
       "      <td>71.2833</td>\n",
       "      <td>0</td>\n",
       "      <td>0</td>\n",
       "      <td>0</td>\n",
       "      <td>0</td>\n",
       "    </tr>\n",
       "    <tr>\n",
       "      <th>2</th>\n",
       "      <td>2</td>\n",
       "      <td>1</td>\n",
       "      <td>3</td>\n",
       "      <td>0</td>\n",
       "      <td>0</td>\n",
       "      <td>7.9250</td>\n",
       "      <td>1</td>\n",
       "      <td>0</td>\n",
       "      <td>0</td>\n",
       "      <td>1</td>\n",
       "    </tr>\n",
       "    <tr>\n",
       "      <th>3</th>\n",
       "      <td>3</td>\n",
       "      <td>1</td>\n",
       "      <td>1</td>\n",
       "      <td>1</td>\n",
       "      <td>0</td>\n",
       "      <td>53.1000</td>\n",
       "      <td>0</td>\n",
       "      <td>0</td>\n",
       "      <td>0</td>\n",
       "      <td>1</td>\n",
       "    </tr>\n",
       "    <tr>\n",
       "      <th>4</th>\n",
       "      <td>4</td>\n",
       "      <td>0</td>\n",
       "      <td>3</td>\n",
       "      <td>0</td>\n",
       "      <td>0</td>\n",
       "      <td>8.0500</td>\n",
       "      <td>1</td>\n",
       "      <td>1</td>\n",
       "      <td>0</td>\n",
       "      <td>1</td>\n",
       "    </tr>\n",
       "  </tbody>\n",
       "</table>\n",
       "</div>"
      ],
      "text/plain": [
       "   passenger_id  survived  pclass  sibsp  parch     fare  alone  sex_male  \\\n",
       "0             0         0       3      1      0   7.2500      0         1   \n",
       "1             1         1       1      1      0  71.2833      0         0   \n",
       "2             2         1       3      0      0   7.9250      1         0   \n",
       "3             3         1       1      1      0  53.1000      0         0   \n",
       "4             4         0       3      0      0   8.0500      1         1   \n",
       "\n",
       "   embark_town_Queenstown  embark_town_Southampton  \n",
       "0                       0                        1  \n",
       "1                       0                        0  \n",
       "2                       0                        1  \n",
       "3                       0                        1  \n",
       "4                       0                        1  "
      ]
     },
     "execution_count": 80,
     "metadata": {},
     "output_type": "execute_result"
    }
   ],
   "source": [
    "titanic_df.head()"
   ]
  },
  {
   "cell_type": "code",
   "execution_count": 81,
   "id": "406d1e54",
   "metadata": {},
   "outputs": [],
   "source": [
    "# Split:"
   ]
  },
  {
   "cell_type": "code",
   "execution_count": 82,
   "id": "cdf335a2",
   "metadata": {},
   "outputs": [],
   "source": [
    "def split_data(titanic_df):\n",
    "    '''\n",
    "    Takes in a dataframe and return train, validate, test subset dataframes\n",
    "    '''\n",
    "    train, test = train_test_split(titanic_df, test_size = .2, random_state=123, stratify=titanic_df.survived)\n",
    "    train, validate = train_test_split(train, test_size=.3, random_state=123, stratify=train.survived)\n",
    "    return train, validate, test"
   ]
  },
  {
   "cell_type": "code",
   "execution_count": 83,
   "id": "86cd3cae",
   "metadata": {},
   "outputs": [],
   "source": [
    "train, validate, test = split_data(titanic_df)"
   ]
  },
  {
   "cell_type": "code",
   "execution_count": 84,
   "id": "704da67a",
   "metadata": {},
   "outputs": [
    {
     "data": {
      "text/html": [
       "<div>\n",
       "<style scoped>\n",
       "    .dataframe tbody tr th:only-of-type {\n",
       "        vertical-align: middle;\n",
       "    }\n",
       "\n",
       "    .dataframe tbody tr th {\n",
       "        vertical-align: top;\n",
       "    }\n",
       "\n",
       "    .dataframe thead th {\n",
       "        text-align: right;\n",
       "    }\n",
       "</style>\n",
       "<table border=\"1\" class=\"dataframe\">\n",
       "  <thead>\n",
       "    <tr style=\"text-align: right;\">\n",
       "      <th></th>\n",
       "      <th>passenger_id</th>\n",
       "      <th>survived</th>\n",
       "      <th>pclass</th>\n",
       "      <th>sibsp</th>\n",
       "      <th>parch</th>\n",
       "      <th>fare</th>\n",
       "      <th>alone</th>\n",
       "      <th>sex_male</th>\n",
       "      <th>embark_town_Queenstown</th>\n",
       "      <th>embark_town_Southampton</th>\n",
       "    </tr>\n",
       "  </thead>\n",
       "  <tbody>\n",
       "    <tr>\n",
       "      <th>583</th>\n",
       "      <td>583</td>\n",
       "      <td>0</td>\n",
       "      <td>1</td>\n",
       "      <td>0</td>\n",
       "      <td>0</td>\n",
       "      <td>40.1250</td>\n",
       "      <td>1</td>\n",
       "      <td>1</td>\n",
       "      <td>0</td>\n",
       "      <td>0</td>\n",
       "    </tr>\n",
       "    <tr>\n",
       "      <th>165</th>\n",
       "      <td>165</td>\n",
       "      <td>1</td>\n",
       "      <td>3</td>\n",
       "      <td>0</td>\n",
       "      <td>2</td>\n",
       "      <td>20.5250</td>\n",
       "      <td>0</td>\n",
       "      <td>1</td>\n",
       "      <td>0</td>\n",
       "      <td>1</td>\n",
       "    </tr>\n",
       "    <tr>\n",
       "      <th>50</th>\n",
       "      <td>50</td>\n",
       "      <td>0</td>\n",
       "      <td>3</td>\n",
       "      <td>4</td>\n",
       "      <td>1</td>\n",
       "      <td>39.6875</td>\n",
       "      <td>0</td>\n",
       "      <td>1</td>\n",
       "      <td>0</td>\n",
       "      <td>1</td>\n",
       "    </tr>\n",
       "    <tr>\n",
       "      <th>259</th>\n",
       "      <td>259</td>\n",
       "      <td>1</td>\n",
       "      <td>2</td>\n",
       "      <td>0</td>\n",
       "      <td>1</td>\n",
       "      <td>26.0000</td>\n",
       "      <td>0</td>\n",
       "      <td>0</td>\n",
       "      <td>0</td>\n",
       "      <td>1</td>\n",
       "    </tr>\n",
       "    <tr>\n",
       "      <th>306</th>\n",
       "      <td>306</td>\n",
       "      <td>1</td>\n",
       "      <td>1</td>\n",
       "      <td>0</td>\n",
       "      <td>0</td>\n",
       "      <td>110.8833</td>\n",
       "      <td>1</td>\n",
       "      <td>0</td>\n",
       "      <td>0</td>\n",
       "      <td>0</td>\n",
       "    </tr>\n",
       "  </tbody>\n",
       "</table>\n",
       "</div>"
      ],
      "text/plain": [
       "     passenger_id  survived  pclass  sibsp  parch      fare  alone  sex_male  \\\n",
       "583           583         0       1      0      0   40.1250      1         1   \n",
       "165           165         1       3      0      2   20.5250      0         1   \n",
       "50             50         0       3      4      1   39.6875      0         1   \n",
       "259           259         1       2      0      1   26.0000      0         0   \n",
       "306           306         1       1      0      0  110.8833      1         0   \n",
       "\n",
       "     embark_town_Queenstown  embark_town_Southampton  \n",
       "583                       0                        0  \n",
       "165                       0                        1  \n",
       "50                        0                        1  \n",
       "259                       0                        1  \n",
       "306                       0                        0  "
      ]
     },
     "execution_count": 84,
     "metadata": {},
     "output_type": "execute_result"
    }
   ],
   "source": [
    "train.head()"
   ]
  },
  {
   "cell_type": "code",
   "execution_count": 85,
   "id": "a27f44fc",
   "metadata": {},
   "outputs": [],
   "source": [
    "X_train = train.drop(columns=['survived'])\n",
    "y_train = train.survived\n",
    "\n",
    "x_validate = validate.drop(columns=['survived'])\n",
    "y_validate = validate.survived\n",
    "\n",
    "X_test = test.drop(columns=['survived'])\n",
    "y_test = test.survived"
   ]
  },
  {
   "cell_type": "code",
   "execution_count": 86,
   "id": "da8a6d21",
   "metadata": {},
   "outputs": [
    {
     "data": {
      "text/plain": [
       "(498, 10)"
      ]
     },
     "execution_count": 86,
     "metadata": {},
     "output_type": "execute_result"
    }
   ],
   "source": [
    "train.shape"
   ]
  },
  {
   "cell_type": "code",
   "execution_count": 87,
   "id": "7fc4c410",
   "metadata": {},
   "outputs": [
    {
     "data": {
      "text/plain": [
       "(214, 10)"
      ]
     },
     "execution_count": 87,
     "metadata": {},
     "output_type": "execute_result"
    }
   ],
   "source": [
    "validate.shape"
   ]
  },
  {
   "cell_type": "code",
   "execution_count": 88,
   "id": "2598e61e",
   "metadata": {},
   "outputs": [
    {
     "data": {
      "text/plain": [
       "(179, 10)"
      ]
     },
     "execution_count": 88,
     "metadata": {},
     "output_type": "execute_result"
    }
   ],
   "source": [
    "test.shape"
   ]
  },
  {
   "cell_type": "code",
   "execution_count": 89,
   "id": "d542b002",
   "metadata": {},
   "outputs": [
    {
     "data": {
      "text/plain": [
       "(498, 9)"
      ]
     },
     "execution_count": 89,
     "metadata": {},
     "output_type": "execute_result"
    }
   ],
   "source": [
    "X_train.shape"
   ]
  },
  {
   "cell_type": "markdown",
   "id": "cc123f31",
   "metadata": {},
   "source": [
    "1. What is your baseline prediction? What is your baseline accuracy? remember: your baseline prediction for a classification problem is predicting the most prevelant class in the training dataset (the mode). When you make those predictions, what is your accuracy? This is your baseline accuracy."
   ]
  },
  {
   "cell_type": "code",
   "execution_count": 90,
   "id": "65870d36",
   "metadata": {},
   "outputs": [],
   "source": [
    "# baseline prediction = most common value"
   ]
  },
  {
   "cell_type": "code",
   "execution_count": 91,
   "id": "8b9a0fa7",
   "metadata": {},
   "outputs": [],
   "source": [
    "baseline = y_train.mode()"
   ]
  },
  {
   "cell_type": "code",
   "execution_count": 92,
   "id": "7ef85e4e",
   "metadata": {},
   "outputs": [
    {
     "data": {
      "text/plain": [
       "0    0\n",
       "dtype: int64"
      ]
     },
     "execution_count": 92,
     "metadata": {},
     "output_type": "execute_result"
    }
   ],
   "source": [
    "baseline"
   ]
  },
  {
   "cell_type": "code",
   "execution_count": 93,
   "id": "ba957f31",
   "metadata": {},
   "outputs": [],
   "source": [
    "match_bsl_prediction = y_train == 0"
   ]
  },
  {
   "cell_type": "code",
   "execution_count": 94,
   "id": "59e05503",
   "metadata": {},
   "outputs": [],
   "source": [
    "baseline_accuracy = match_bsl_prediction.mean()"
   ]
  },
  {
   "cell_type": "code",
   "execution_count": 95,
   "id": "f10e03c9",
   "metadata": {},
   "outputs": [
    {
     "data": {
      "text/plain": [
       "0.6164658634538153"
      ]
     },
     "execution_count": 95,
     "metadata": {},
     "output_type": "execute_result"
    }
   ],
   "source": [
    "baseline_accuracy"
   ]
  },
  {
   "cell_type": "code",
   "execution_count": 96,
   "id": "e2595ca8",
   "metadata": {},
   "outputs": [],
   "source": [
    "# basline accuracy = 62%"
   ]
  },
  {
   "cell_type": "markdown",
   "id": "c6ee4074",
   "metadata": {},
   "source": [
    "2. Fit the decision tree classifier to your training sample and transform (i.e. make predictions on the training sample)\n"
   ]
  },
  {
   "cell_type": "code",
   "execution_count": 97,
   "id": "4992c5ae",
   "metadata": {},
   "outputs": [],
   "source": [
    "tree1_clf = DecisionTreeClassifier(max_depth=3, random_state=123)"
   ]
  },
  {
   "cell_type": "code",
   "execution_count": 98,
   "id": "11c35b76",
   "metadata": {},
   "outputs": [],
   "source": [
    "tree1_clf = tree1_clf.fit(X_train, y_train)"
   ]
  },
  {
   "cell_type": "code",
   "execution_count": 157,
   "id": "b558f94b",
   "metadata": {},
   "outputs": [
    {
     "data": {
      "text/plain": [
       "'titanic_decision_tree.pdf'"
      ]
     },
     "execution_count": 157,
     "metadata": {},
     "output_type": "execute_result"
    }
   ],
   "source": [
    "#visualize the decision tree\n",
    "import graphviz\n",
    "from graphviz import Graph\n",
    "\n",
    "dot_data = export_graphviz(tree1_clf, feature_names= X_train.columns, rounded=True, filled=True, out_file=None)\n",
    "graph = graphviz.Source(dot_data) \n",
    "\n",
    "graph.render('titanic_decision_tree', view=True)"
   ]
  },
  {
   "cell_type": "code",
   "execution_count": 101,
   "id": "94491495",
   "metadata": {},
   "outputs": [
    {
     "data": {
      "text/plain": [
       "array([0, 0, 0, 1, 1])"
      ]
     },
     "execution_count": 101,
     "metadata": {},
     "output_type": "execute_result"
    }
   ],
   "source": [
    "y_pred = tree1_clf.predict(X_train)\n",
    "y_pred[0:5]"
   ]
  },
  {
   "cell_type": "code",
   "execution_count": 104,
   "id": "66e7f863",
   "metadata": {},
   "outputs": [
    {
     "data": {
      "text/plain": [
       "array([[0.62222222, 0.37777778],\n",
       "       [0.62222222, 0.37777778],\n",
       "       [0.89285714, 0.10714286],\n",
       "       [0.14814815, 0.85185185],\n",
       "       [0.        , 1.        ]])"
      ]
     },
     "execution_count": 104,
     "metadata": {},
     "output_type": "execute_result"
    }
   ],
   "source": [
    "y_pred_proba = tree1_clf.predict_proba(X_train)\n",
    "y_pred_proba[0:5]"
   ]
  },
  {
   "cell_type": "markdown",
   "id": "856f3850",
   "metadata": {},
   "source": [
    "3. Evaluate your in-sample results using the model score, confusion matrix, and classification report.\n"
   ]
  },
  {
   "cell_type": "code",
   "execution_count": 108,
   "id": "1fa8e8c3",
   "metadata": {},
   "outputs": [],
   "source": [
    "# accuracy:"
   ]
  },
  {
   "cell_type": "code",
   "execution_count": 105,
   "id": "debc456c",
   "metadata": {},
   "outputs": [
    {
     "name": "stdout",
     "output_type": "stream",
     "text": [
      "Accuracy of Decision Tree 1 classifier on training set: 0.82\n"
     ]
    }
   ],
   "source": [
    "print('Accuracy of Decision Tree 1 classifier on training set: {:.2f}'\n",
    "      .format(tree1_clf.score(X_train, y_train)))"
   ]
  },
  {
   "cell_type": "code",
   "execution_count": 106,
   "id": "0a58b724",
   "metadata": {},
   "outputs": [],
   "source": [
    "# confusion matrix:"
   ]
  },
  {
   "cell_type": "code",
   "execution_count": 107,
   "id": "141ee288",
   "metadata": {},
   "outputs": [
    {
     "data": {
      "text/plain": [
       "array([[274,  33],\n",
       "       [ 56, 135]])"
      ]
     },
     "execution_count": 107,
     "metadata": {},
     "output_type": "execute_result"
    }
   ],
   "source": [
    "confusion_matrix(y_train, y_pred)"
   ]
  },
  {
   "cell_type": "code",
   "execution_count": 110,
   "id": "550747bf",
   "metadata": {},
   "outputs": [
    {
     "data": {
      "text/plain": [
       "0    307\n",
       "1    191\n",
       "Name: survived, dtype: int64"
      ]
     },
     "execution_count": 110,
     "metadata": {},
     "output_type": "execute_result"
    }
   ],
   "source": [
    "y_train.value_counts()"
   ]
  },
  {
   "cell_type": "code",
   "execution_count": 111,
   "id": "b98112f7",
   "metadata": {},
   "outputs": [
    {
     "name": "stdout",
     "output_type": "stream",
     "text": [
      "Actual on the left, predicted on the top\n"
     ]
    },
    {
     "data": {
      "text/html": [
       "<div>\n",
       "<style scoped>\n",
       "    .dataframe tbody tr th:only-of-type {\n",
       "        vertical-align: middle;\n",
       "    }\n",
       "\n",
       "    .dataframe tbody tr th {\n",
       "        vertical-align: top;\n",
       "    }\n",
       "\n",
       "    .dataframe thead th {\n",
       "        text-align: right;\n",
       "    }\n",
       "</style>\n",
       "<table border=\"1\" class=\"dataframe\">\n",
       "  <thead>\n",
       "    <tr style=\"text-align: right;\">\n",
       "      <th></th>\n",
       "      <th>0</th>\n",
       "      <th>1</th>\n",
       "    </tr>\n",
       "  </thead>\n",
       "  <tbody>\n",
       "    <tr>\n",
       "      <th>0</th>\n",
       "      <td>274</td>\n",
       "      <td>33</td>\n",
       "    </tr>\n",
       "    <tr>\n",
       "      <th>1</th>\n",
       "      <td>56</td>\n",
       "      <td>135</td>\n",
       "    </tr>\n",
       "  </tbody>\n",
       "</table>\n",
       "</div>"
      ],
      "text/plain": [
       "     0    1\n",
       "0  274   33\n",
       "1   56  135"
      ]
     },
     "execution_count": 111,
     "metadata": {},
     "output_type": "execute_result"
    }
   ],
   "source": [
    "labels = sorted(y_train.unique())\n",
    "print('Actual on the left, predicted on the top')\n",
    "pd.DataFrame(confusion_matrix(y_train, y_pred), index=labels, columns=labels)"
   ]
  },
  {
   "cell_type": "code",
   "execution_count": 109,
   "id": "67d530f9",
   "metadata": {},
   "outputs": [],
   "source": [
    "# classification report: "
   ]
  },
  {
   "cell_type": "code",
   "execution_count": 158,
   "id": "1aa28bb7",
   "metadata": {},
   "outputs": [
    {
     "name": "stdout",
     "output_type": "stream",
     "text": [
      "              precision    recall  f1-score   support\n",
      "\n",
      "           0       0.83      0.89      0.86       307\n",
      "           1       0.80      0.71      0.75       191\n",
      "\n",
      "    accuracy                           0.82       498\n",
      "   macro avg       0.82      0.80      0.81       498\n",
      "weighted avg       0.82      0.82      0.82       498\n",
      "\n"
     ]
    }
   ],
   "source": [
    "\n",
    "print(classification_report(y_train, y_pred))"
   ]
  },
  {
   "cell_type": "code",
   "execution_count": 159,
   "id": "36fcba72",
   "metadata": {},
   "outputs": [
    {
     "name": "stdout",
     "output_type": "stream",
     "text": [
      "Tree1 depth\n"
     ]
    },
    {
     "data": {
      "text/html": [
       "<div>\n",
       "<style scoped>\n",
       "    .dataframe tbody tr th:only-of-type {\n",
       "        vertical-align: middle;\n",
       "    }\n",
       "\n",
       "    .dataframe tbody tr th {\n",
       "        vertical-align: top;\n",
       "    }\n",
       "\n",
       "    .dataframe thead th {\n",
       "        text-align: right;\n",
       "    }\n",
       "</style>\n",
       "<table border=\"1\" class=\"dataframe\">\n",
       "  <thead>\n",
       "    <tr style=\"text-align: right;\">\n",
       "      <th></th>\n",
       "      <th>0</th>\n",
       "      <th>1</th>\n",
       "      <th>accuracy</th>\n",
       "      <th>macro avg</th>\n",
       "      <th>weighted avg</th>\n",
       "    </tr>\n",
       "  </thead>\n",
       "  <tbody>\n",
       "    <tr>\n",
       "      <th>precision</th>\n",
       "      <td>0.830303</td>\n",
       "      <td>0.803571</td>\n",
       "      <td>0.821285</td>\n",
       "      <td>0.816937</td>\n",
       "      <td>0.820051</td>\n",
       "    </tr>\n",
       "    <tr>\n",
       "      <th>recall</th>\n",
       "      <td>0.892508</td>\n",
       "      <td>0.706806</td>\n",
       "      <td>0.821285</td>\n",
       "      <td>0.799657</td>\n",
       "      <td>0.821285</td>\n",
       "    </tr>\n",
       "    <tr>\n",
       "      <th>f1-score</th>\n",
       "      <td>0.860283</td>\n",
       "      <td>0.752089</td>\n",
       "      <td>0.821285</td>\n",
       "      <td>0.806186</td>\n",
       "      <td>0.818787</td>\n",
       "    </tr>\n",
       "    <tr>\n",
       "      <th>support</th>\n",
       "      <td>307.000000</td>\n",
       "      <td>191.000000</td>\n",
       "      <td>0.821285</td>\n",
       "      <td>498.000000</td>\n",
       "      <td>498.000000</td>\n",
       "    </tr>\n",
       "  </tbody>\n",
       "</table>\n",
       "</div>"
      ],
      "text/plain": [
       "                    0           1  accuracy   macro avg  weighted avg\n",
       "precision    0.830303    0.803571  0.821285    0.816937      0.820051\n",
       "recall       0.892508    0.706806  0.821285    0.799657      0.821285\n",
       "f1-score     0.860283    0.752089  0.821285    0.806186      0.818787\n",
       "support    307.000000  191.000000  0.821285  498.000000    498.000000"
      ]
     },
     "execution_count": 159,
     "metadata": {},
     "output_type": "execute_result"
    }
   ],
   "source": [
    "# make classification report prettier in a df\n",
    "class_report = classification_report(y_train, y_pred, output_dict=(True))\n",
    "print(\"Tree1 depth\")\n",
    "pd.DataFrame(class_report)"
   ]
  },
  {
   "cell_type": "markdown",
   "id": "cf504a56",
   "metadata": {},
   "source": [
    "4. Compute: Accuracy, true positive rate, false positive rate, true negative rate, false negative rate, precision, recall, f1-score, and support.\n"
   ]
  },
  {
   "cell_type": "markdown",
   "id": "d581b78c",
   "metadata": {},
   "source": [
    "- **Precision**: the higher this number is, the more you were able to pinpoint all positives correctly. If this is a low score, you predicted a lot of positives where there were none.\n",
    "- **Recall**: if this score is high, you didn’t miss a lot of positives. But as it gets lower, you are not predicting the positives that are actually there.\n",
    "- **f1-score**: The balanced harmonic mean of Recall and Precision, giving both metrics equal weight. The higher the F-Measure is, the better.\n",
    "- **Support**: number of occurrences of each class in where y is true."
   ]
  },
  {
   "cell_type": "code",
   "execution_count": 154,
   "id": "642b3628",
   "metadata": {},
   "outputs": [
    {
     "name": "stdout",
     "output_type": "stream",
     "text": [
      "Tree1 depth\n"
     ]
    },
    {
     "data": {
      "text/html": [
       "<div>\n",
       "<style scoped>\n",
       "    .dataframe tbody tr th:only-of-type {\n",
       "        vertical-align: middle;\n",
       "    }\n",
       "\n",
       "    .dataframe tbody tr th {\n",
       "        vertical-align: top;\n",
       "    }\n",
       "\n",
       "    .dataframe thead th {\n",
       "        text-align: right;\n",
       "    }\n",
       "</style>\n",
       "<table border=\"1\" class=\"dataframe\">\n",
       "  <thead>\n",
       "    <tr style=\"text-align: right;\">\n",
       "      <th></th>\n",
       "      <th>0</th>\n",
       "      <th>1</th>\n",
       "      <th>accuracy</th>\n",
       "      <th>macro avg</th>\n",
       "      <th>weighted avg</th>\n",
       "    </tr>\n",
       "  </thead>\n",
       "  <tbody>\n",
       "    <tr>\n",
       "      <th>precision</th>\n",
       "      <td>0.830303</td>\n",
       "      <td>0.803571</td>\n",
       "      <td>0.821285</td>\n",
       "      <td>0.816937</td>\n",
       "      <td>0.820051</td>\n",
       "    </tr>\n",
       "    <tr>\n",
       "      <th>recall</th>\n",
       "      <td>0.892508</td>\n",
       "      <td>0.706806</td>\n",
       "      <td>0.821285</td>\n",
       "      <td>0.799657</td>\n",
       "      <td>0.821285</td>\n",
       "    </tr>\n",
       "    <tr>\n",
       "      <th>f1-score</th>\n",
       "      <td>0.860283</td>\n",
       "      <td>0.752089</td>\n",
       "      <td>0.821285</td>\n",
       "      <td>0.806186</td>\n",
       "      <td>0.818787</td>\n",
       "    </tr>\n",
       "    <tr>\n",
       "      <th>support</th>\n",
       "      <td>307.000000</td>\n",
       "      <td>191.000000</td>\n",
       "      <td>0.821285</td>\n",
       "      <td>498.000000</td>\n",
       "      <td>498.000000</td>\n",
       "    </tr>\n",
       "  </tbody>\n",
       "</table>\n",
       "</div>"
      ],
      "text/plain": [
       "                    0           1  accuracy   macro avg  weighted avg\n",
       "precision    0.830303    0.803571  0.821285    0.816937      0.820051\n",
       "recall       0.892508    0.706806  0.821285    0.799657      0.821285\n",
       "f1-score     0.860283    0.752089  0.821285    0.806186      0.818787\n",
       "support    307.000000  191.000000  0.821285  498.000000    498.000000"
      ]
     },
     "execution_count": 154,
     "metadata": {},
     "output_type": "execute_result"
    }
   ],
   "source": [
    "class_report = classification_report(y_train, y_pred, output_dict=(True))\n",
    "print(\"Tree1 depth\")\n",
    "pd.DataFrame(class_report)"
   ]
  },
  {
   "cell_type": "markdown",
   "id": "87f6ac58",
   "metadata": {},
   "source": [
    "5. Run through steps 2-4 using a different max_depth value."
   ]
  },
  {
   "cell_type": "code",
   "execution_count": 209,
   "id": "c5d4b9ec",
   "metadata": {},
   "outputs": [
    {
     "name": "stdout",
     "output_type": "stream",
     "text": [
      "Tree with max depth of 2\n",
      "                    0           1  accuracy   macro avg  weighted avg\n",
      "precision    0.820433    0.760000  0.799197    0.790217      0.797255\n",
      "recall       0.863192    0.696335  0.799197    0.779764      0.799197\n",
      "f1-score     0.841270    0.726776  0.799197    0.784023      0.797358\n",
      "support    307.000000  191.000000  0.799197  498.000000    498.000000\n",
      "\n",
      "Tree with max depth of 3\n",
      "                    0           1  accuracy   macro avg  weighted avg\n",
      "precision    0.830303    0.803571  0.821285    0.816937      0.820051\n",
      "recall       0.892508    0.706806  0.821285    0.799657      0.821285\n",
      "f1-score     0.860283    0.752089  0.821285    0.806186      0.818787\n",
      "support    307.000000  191.000000  0.821285  498.000000    498.000000\n",
      "\n",
      "Tree with max depth of 4\n",
      "                    0           1  accuracy   macro avg  weighted avg\n",
      "precision    0.815642    0.892857  0.837349    0.854250      0.845257\n",
      "recall       0.951140    0.654450  0.837349    0.802795      0.837349\n",
      "f1-score     0.878195    0.755287  0.837349    0.816741      0.831056\n",
      "support    307.000000  191.000000  0.837349  498.000000    498.000000\n",
      "\n",
      "Tree with max depth of 5\n",
      "                    0           1  accuracy   macro avg  weighted avg\n",
      "precision    0.849398    0.849398  0.849398    0.849398      0.849398\n",
      "recall       0.918567    0.738220  0.849398    0.828393      0.849398\n",
      "f1-score     0.882629    0.789916  0.849398    0.836273      0.847070\n",
      "support    307.000000  191.000000  0.849398  498.000000    498.000000\n",
      "\n",
      "Tree with max depth of 6\n",
      "                    0           1  accuracy   macro avg  weighted avg\n",
      "precision    0.838440    0.956835  0.871486    0.897637      0.883848\n",
      "recall       0.980456    0.696335  0.871486    0.838396      0.871486\n",
      "f1-score     0.903904    0.806061  0.871486    0.854982      0.866378\n",
      "support    307.000000  191.000000  0.871486  498.000000    498.000000\n",
      "\n",
      "Tree with max depth of 7\n",
      "                    0           1  accuracy   macro avg  weighted avg\n",
      "precision    0.875740    0.931250  0.893574    0.903495      0.897030\n",
      "recall       0.964169    0.780105  0.893574    0.872137      0.893574\n",
      "f1-score     0.917829    0.849003  0.893574    0.883416      0.891432\n",
      "support    307.000000  191.000000  0.893574  498.000000    498.000000\n",
      "\n",
      "Tree with max depth of 8\n",
      "                    0           1  accuracy   macro avg  weighted avg\n",
      "precision    0.904908    0.930233  0.913655    0.917570      0.914621\n",
      "recall       0.960912    0.837696  0.913655    0.899304      0.913655\n",
      "f1-score     0.932070    0.881543  0.913655    0.906806      0.912691\n",
      "support    307.000000  191.000000  0.913655  498.000000    498.000000\n",
      "\n",
      "Tree with max depth of 9\n",
      "                    0           1  accuracy   macro avg  weighted avg\n",
      "precision    0.915408    0.976048  0.935743    0.945728      0.938665\n",
      "recall       0.986971    0.853403  0.935743    0.920187      0.935743\n",
      "f1-score     0.949843    0.910615  0.935743    0.930229      0.934798\n",
      "support    307.000000  191.000000  0.935743  498.000000    498.000000\n",
      "\n",
      "Tree with max depth of 10\n",
      "                    0           1  accuracy   macro avg  weighted avg\n",
      "precision    0.924471    0.994012  0.947791    0.959242      0.951143\n",
      "recall       0.996743    0.869110  0.947791    0.932926      0.947791\n",
      "f1-score     0.959248    0.927374  0.947791    0.943311      0.947023\n",
      "support    307.000000  191.000000  0.947791  498.000000    498.000000\n",
      "\n"
     ]
    }
   ],
   "source": [
    "for i in range(2, 11):\n",
    "    # Make the model\n",
    "    tree = DecisionTreeClassifier(max_depth=i, random_state=123)\n",
    "\n",
    "    # Fit the model (on train and only train)\n",
    "    tree = tree.fit(X_train, y_train)\n",
    "\n",
    "    # Use the model\n",
    "    # We'll evaluate the model's performance on train, first\n",
    "    y_pred = tree.predict(X_train)\n",
    "\n",
    "    # Produce the classification report on the actual y values and this model's predicted y values\n",
    "    report = classification_report(y_train, y_pred, output_dict=True)\n",
    "    print(f\"Tree with max depth of {i}\")\n",
    "    print(pd.DataFrame(report))\n",
    "    print()"
   ]
  },
  {
   "cell_type": "code",
   "execution_count": 162,
   "id": "0a5942b8",
   "metadata": {},
   "outputs": [],
   "source": [
    "# to figure out which model to use, create a df with just themax_depth, train_accuracy, validate_accuracy, difference"
   ]
  },
  {
   "cell_type": "code",
   "execution_count": 137,
   "id": "8c3e04d4",
   "metadata": {},
   "outputs": [],
   "source": [
    "metrics = []  "
   ]
  },
  {
   "cell_type": "code",
   "execution_count": 151,
   "id": "8d0dbb19",
   "metadata": {},
   "outputs": [
    {
     "data": {
      "text/html": [
       "<div>\n",
       "<style scoped>\n",
       "    .dataframe tbody tr th:only-of-type {\n",
       "        vertical-align: middle;\n",
       "    }\n",
       "\n",
       "    .dataframe tbody tr th {\n",
       "        vertical-align: top;\n",
       "    }\n",
       "\n",
       "    .dataframe thead th {\n",
       "        text-align: right;\n",
       "    }\n",
       "</style>\n",
       "<table border=\"1\" class=\"dataframe\">\n",
       "  <thead>\n",
       "    <tr style=\"text-align: right;\">\n",
       "      <th></th>\n",
       "      <th>max_depth</th>\n",
       "      <th>train_accuracy</th>\n",
       "      <th>validate_accuracy</th>\n",
       "      <th>difference</th>\n",
       "    </tr>\n",
       "  </thead>\n",
       "  <tbody>\n",
       "    <tr>\n",
       "      <th>0</th>\n",
       "      <td>2</td>\n",
       "      <td>0.799197</td>\n",
       "      <td>0.761682</td>\n",
       "      <td>0.037515</td>\n",
       "    </tr>\n",
       "    <tr>\n",
       "      <th>1</th>\n",
       "      <td>3</td>\n",
       "      <td>0.821285</td>\n",
       "      <td>0.775701</td>\n",
       "      <td>0.045584</td>\n",
       "    </tr>\n",
       "    <tr>\n",
       "      <th>2</th>\n",
       "      <td>4</td>\n",
       "      <td>0.837349</td>\n",
       "      <td>0.761682</td>\n",
       "      <td>0.075667</td>\n",
       "    </tr>\n",
       "    <tr>\n",
       "      <th>3</th>\n",
       "      <td>5</td>\n",
       "      <td>0.849398</td>\n",
       "      <td>0.761682</td>\n",
       "      <td>0.087715</td>\n",
       "    </tr>\n",
       "    <tr>\n",
       "      <th>4</th>\n",
       "      <td>4</td>\n",
       "      <td>0.837349</td>\n",
       "      <td>0.761682</td>\n",
       "      <td>0.075667</td>\n",
       "    </tr>\n",
       "    <tr>\n",
       "      <th>5</th>\n",
       "      <td>5</td>\n",
       "      <td>0.849398</td>\n",
       "      <td>0.761682</td>\n",
       "      <td>0.087715</td>\n",
       "    </tr>\n",
       "    <tr>\n",
       "      <th>6</th>\n",
       "      <td>6</td>\n",
       "      <td>0.871486</td>\n",
       "      <td>0.738318</td>\n",
       "      <td>0.133168</td>\n",
       "    </tr>\n",
       "    <tr>\n",
       "      <th>7</th>\n",
       "      <td>7</td>\n",
       "      <td>0.893574</td>\n",
       "      <td>0.752336</td>\n",
       "      <td>0.141238</td>\n",
       "    </tr>\n",
       "    <tr>\n",
       "      <th>8</th>\n",
       "      <td>8</td>\n",
       "      <td>0.913655</td>\n",
       "      <td>0.733645</td>\n",
       "      <td>0.180010</td>\n",
       "    </tr>\n",
       "    <tr>\n",
       "      <th>9</th>\n",
       "      <td>9</td>\n",
       "      <td>0.935743</td>\n",
       "      <td>0.724299</td>\n",
       "      <td>0.211444</td>\n",
       "    </tr>\n",
       "    <tr>\n",
       "      <th>10</th>\n",
       "      <td>10</td>\n",
       "      <td>0.947791</td>\n",
       "      <td>0.728972</td>\n",
       "      <td>0.218819</td>\n",
       "    </tr>\n",
       "    <tr>\n",
       "      <th>11</th>\n",
       "      <td>4</td>\n",
       "      <td>0.837349</td>\n",
       "      <td>0.761682</td>\n",
       "      <td>0.075667</td>\n",
       "    </tr>\n",
       "    <tr>\n",
       "      <th>12</th>\n",
       "      <td>5</td>\n",
       "      <td>0.849398</td>\n",
       "      <td>0.761682</td>\n",
       "      <td>0.087715</td>\n",
       "    </tr>\n",
       "    <tr>\n",
       "      <th>13</th>\n",
       "      <td>6</td>\n",
       "      <td>0.871486</td>\n",
       "      <td>0.738318</td>\n",
       "      <td>0.133168</td>\n",
       "    </tr>\n",
       "    <tr>\n",
       "      <th>14</th>\n",
       "      <td>7</td>\n",
       "      <td>0.893574</td>\n",
       "      <td>0.752336</td>\n",
       "      <td>0.141238</td>\n",
       "    </tr>\n",
       "    <tr>\n",
       "      <th>15</th>\n",
       "      <td>8</td>\n",
       "      <td>0.913655</td>\n",
       "      <td>0.733645</td>\n",
       "      <td>0.180010</td>\n",
       "    </tr>\n",
       "    <tr>\n",
       "      <th>16</th>\n",
       "      <td>9</td>\n",
       "      <td>0.935743</td>\n",
       "      <td>0.724299</td>\n",
       "      <td>0.211444</td>\n",
       "    </tr>\n",
       "    <tr>\n",
       "      <th>17</th>\n",
       "      <td>10</td>\n",
       "      <td>0.947791</td>\n",
       "      <td>0.728972</td>\n",
       "      <td>0.218819</td>\n",
       "    </tr>\n",
       "    <tr>\n",
       "      <th>18</th>\n",
       "      <td>1</td>\n",
       "      <td>0.799197</td>\n",
       "      <td>0.761682</td>\n",
       "      <td>0.037515</td>\n",
       "    </tr>\n",
       "    <tr>\n",
       "      <th>19</th>\n",
       "      <td>2</td>\n",
       "      <td>0.799197</td>\n",
       "      <td>0.761682</td>\n",
       "      <td>0.037515</td>\n",
       "    </tr>\n",
       "    <tr>\n",
       "      <th>20</th>\n",
       "      <td>3</td>\n",
       "      <td>0.821285</td>\n",
       "      <td>0.775701</td>\n",
       "      <td>0.045584</td>\n",
       "    </tr>\n",
       "    <tr>\n",
       "      <th>21</th>\n",
       "      <td>4</td>\n",
       "      <td>0.837349</td>\n",
       "      <td>0.761682</td>\n",
       "      <td>0.075667</td>\n",
       "    </tr>\n",
       "    <tr>\n",
       "      <th>22</th>\n",
       "      <td>5</td>\n",
       "      <td>0.849398</td>\n",
       "      <td>0.761682</td>\n",
       "      <td>0.087715</td>\n",
       "    </tr>\n",
       "    <tr>\n",
       "      <th>23</th>\n",
       "      <td>6</td>\n",
       "      <td>0.871486</td>\n",
       "      <td>0.738318</td>\n",
       "      <td>0.133168</td>\n",
       "    </tr>\n",
       "    <tr>\n",
       "      <th>24</th>\n",
       "      <td>7</td>\n",
       "      <td>0.893574</td>\n",
       "      <td>0.752336</td>\n",
       "      <td>0.141238</td>\n",
       "    </tr>\n",
       "    <tr>\n",
       "      <th>25</th>\n",
       "      <td>8</td>\n",
       "      <td>0.913655</td>\n",
       "      <td>0.733645</td>\n",
       "      <td>0.180010</td>\n",
       "    </tr>\n",
       "    <tr>\n",
       "      <th>26</th>\n",
       "      <td>9</td>\n",
       "      <td>0.935743</td>\n",
       "      <td>0.724299</td>\n",
       "      <td>0.211444</td>\n",
       "    </tr>\n",
       "    <tr>\n",
       "      <th>27</th>\n",
       "      <td>10</td>\n",
       "      <td>0.947791</td>\n",
       "      <td>0.728972</td>\n",
       "      <td>0.218819</td>\n",
       "    </tr>\n",
       "  </tbody>\n",
       "</table>\n",
       "</div>"
      ],
      "text/plain": [
       "    max_depth  train_accuracy  validate_accuracy  difference\n",
       "0           2        0.799197           0.761682    0.037515\n",
       "1           3        0.821285           0.775701    0.045584\n",
       "2           4        0.837349           0.761682    0.075667\n",
       "3           5        0.849398           0.761682    0.087715\n",
       "4           4        0.837349           0.761682    0.075667\n",
       "5           5        0.849398           0.761682    0.087715\n",
       "6           6        0.871486           0.738318    0.133168\n",
       "7           7        0.893574           0.752336    0.141238\n",
       "8           8        0.913655           0.733645    0.180010\n",
       "9           9        0.935743           0.724299    0.211444\n",
       "10         10        0.947791           0.728972    0.218819\n",
       "11          4        0.837349           0.761682    0.075667\n",
       "12          5        0.849398           0.761682    0.087715\n",
       "13          6        0.871486           0.738318    0.133168\n",
       "14          7        0.893574           0.752336    0.141238\n",
       "15          8        0.913655           0.733645    0.180010\n",
       "16          9        0.935743           0.724299    0.211444\n",
       "17         10        0.947791           0.728972    0.218819\n",
       "18          1        0.799197           0.761682    0.037515\n",
       "19          2        0.799197           0.761682    0.037515\n",
       "20          3        0.821285           0.775701    0.045584\n",
       "21          4        0.837349           0.761682    0.075667\n",
       "22          5        0.849398           0.761682    0.087715\n",
       "23          6        0.871486           0.738318    0.133168\n",
       "24          7        0.893574           0.752336    0.141238\n",
       "25          8        0.913655           0.733645    0.180010\n",
       "26          9        0.935743           0.724299    0.211444\n",
       "27         10        0.947791           0.728972    0.218819"
      ]
     },
     "execution_count": 151,
     "metadata": {},
     "output_type": "execute_result"
    }
   ],
   "source": [
    "for i in range(1, 11):\n",
    "    tree = DecisionTreeClassifier(max_depth=i, random_state=123)\n",
    "    \n",
    "    #run the model on train and only TRAIN data \n",
    "    tree = tree.fit(X_train, y_train)\n",
    "    \n",
    "    #use/test the model to evaluate models performance on train data first...\n",
    "    in_sample_accuracy = tree.score(X_train, y_train)\n",
    "    out_sample_accuracy = tree.score(x_validate, y_validate)\n",
    "    \n",
    "    output = {'max_depth': i, 'train_accuracy': in_sample_accuracy, 'validate_accuracy': out_sample_accuracy}\n",
    "    \n",
    "    metrics.append(output)\n",
    "    \n",
    "tree_df = pd.DataFrame(metrics)\n",
    "tree_df[\"difference\"] = tree_df.train_accuracy - tree_df.validate_accuracy\n",
    "\n",
    "tree_df"
   ]
  },
  {
   "cell_type": "code",
   "execution_count": 164,
   "id": "0b05013a",
   "metadata": {},
   "outputs": [],
   "source": [
    "# to avoid over-fitting, set a threshhold by looking at the difference"
   ]
  },
  {
   "cell_type": "code",
   "execution_count": 152,
   "id": "f45c394f",
   "metadata": {},
   "outputs": [
    {
     "data": {
      "text/html": [
       "<div>\n",
       "<style scoped>\n",
       "    .dataframe tbody tr th:only-of-type {\n",
       "        vertical-align: middle;\n",
       "    }\n",
       "\n",
       "    .dataframe tbody tr th {\n",
       "        vertical-align: top;\n",
       "    }\n",
       "\n",
       "    .dataframe thead th {\n",
       "        text-align: right;\n",
       "    }\n",
       "</style>\n",
       "<table border=\"1\" class=\"dataframe\">\n",
       "  <thead>\n",
       "    <tr style=\"text-align: right;\">\n",
       "      <th></th>\n",
       "      <th>max_depth</th>\n",
       "      <th>train_accuracy</th>\n",
       "      <th>validate_accuracy</th>\n",
       "      <th>difference</th>\n",
       "    </tr>\n",
       "  </thead>\n",
       "  <tbody>\n",
       "    <tr>\n",
       "      <th>0</th>\n",
       "      <td>1</td>\n",
       "      <td>0.799197</td>\n",
       "      <td>0.761682</td>\n",
       "      <td>0.037515</td>\n",
       "    </tr>\n",
       "    <tr>\n",
       "      <th>1</th>\n",
       "      <td>2</td>\n",
       "      <td>0.799197</td>\n",
       "      <td>0.761682</td>\n",
       "      <td>0.045584</td>\n",
       "    </tr>\n",
       "    <tr>\n",
       "      <th>2</th>\n",
       "      <td>3</td>\n",
       "      <td>0.821285</td>\n",
       "      <td>0.775701</td>\n",
       "      <td>0.075667</td>\n",
       "    </tr>\n",
       "    <tr>\n",
       "      <th>3</th>\n",
       "      <td>4</td>\n",
       "      <td>0.837349</td>\n",
       "      <td>0.761682</td>\n",
       "      <td>0.087715</td>\n",
       "    </tr>\n",
       "    <tr>\n",
       "      <th>4</th>\n",
       "      <td>5</td>\n",
       "      <td>0.849398</td>\n",
       "      <td>0.761682</td>\n",
       "      <td>0.075667</td>\n",
       "    </tr>\n",
       "  </tbody>\n",
       "</table>\n",
       "</div>"
      ],
      "text/plain": [
       "   max_depth  train_accuracy  validate_accuracy  difference\n",
       "0          1        0.799197           0.761682    0.037515\n",
       "1          2        0.799197           0.761682    0.045584\n",
       "2          3        0.821285           0.775701    0.075667\n",
       "3          4        0.837349           0.761682    0.087715\n",
       "4          5        0.849398           0.761682    0.075667"
      ]
     },
     "execution_count": 152,
     "metadata": {},
     "output_type": "execute_result"
    }
   ],
   "source": [
    "threshold = 0.10  #threshold set for amount of overfit that is tolerated\n",
    "\n",
    "models = []\n",
    "metrics = []\n",
    "\n",
    "for i in range(1, 11):\n",
    "    tree = DecisionTreeClassifier(max_depth=i, random_state=123)\n",
    "    #^^^ creates the model\n",
    "    \n",
    "    tree = tree.fit(X_train, y_train)   #fit model to train data and only TRAIN data\n",
    "    \n",
    "    in_sample_accuracy = tree.score(X_train, y_train)\n",
    "    out_sample_accuracy = tree.score(x_validate, y_validate)\n",
    "    #^^^evaluates the models performance on train data first\n",
    "    \n",
    "    difference = in_sample_accuracy - out_sample_accuracy\n",
    "    #^^calculates the difference in accuracy\n",
    "    \n",
    "    if difference > threshold:\n",
    "        break\n",
    "    #^^adds conditions to check the accuracy vs the threshold\n",
    "    \n",
    "    output = {\n",
    "        'max_depth': i,\n",
    "        'train_accuracy': in_sample_accuracy,\n",
    "        'validate_accuracy': out_sample_accuracy,\n",
    "        'difference': difference}\n",
    "    #^^^formats the output for each models performance o train and validate\n",
    "    \n",
    "    metrics.append(output)\n",
    "    \n",
    "    models.append(output)\n",
    "    \n",
    "model_df = pd.DataFrame(metrics)\n",
    "model_df[\"difference\"] = tree_df.train_accuracy - tree_df.validate_accuracy\n",
    "\n",
    "\n",
    "model_df.head()"
   ]
  },
  {
   "cell_type": "markdown",
   "id": "727c25c7",
   "metadata": {},
   "source": [
    "6. Which model performs better on your in-sample data?\n",
    "\n"
   ]
  },
  {
   "cell_type": "markdown",
   "id": "a5da9748",
   "metadata": {},
   "source": [
    "Answer: the model with a max depth of 5 (the higher the max_depth, the higher the accuracy."
   ]
  },
  {
   "cell_type": "markdown",
   "id": "45f5dd6a",
   "metadata": {},
   "source": [
    "7. Which model performs best on your out-of-sample data, the validate set?"
   ]
  },
  {
   "cell_type": "markdown",
   "id": "fd2aae1c",
   "metadata": {},
   "source": [
    "Answer: the model with a max depth of 3"
   ]
  },
  {
   "cell_type": "markdown",
   "id": "dcb95986",
   "metadata": {},
   "source": [
    "### Decicion Tree with the Telco Data"
   ]
  },
  {
   "cell_type": "markdown",
   "id": "54fdae66",
   "metadata": {},
   "source": [
    "1. Work through these same exercises using the Telco dataset."
   ]
  },
  {
   "cell_type": "markdown",
   "id": "c25f93c2",
   "metadata": {},
   "source": [
    "2. Experiment with this model on other datasets with a higher number of output classes."
   ]
  },
  {
   "cell_type": "markdown",
   "id": "10aff1c7",
   "metadata": {},
   "source": [
    "### Decicion Tree with the Other Data"
   ]
  },
  {
   "cell_type": "markdown",
   "id": "534922a7",
   "metadata": {},
   "source": [
    "# Random Forest Model Exercises"
   ]
  },
  {
   "cell_type": "markdown",
   "id": "1ba97c01",
   "metadata": {},
   "source": [
    "### Random Forest with the Titanic Data"
   ]
  },
  {
   "cell_type": "markdown",
   "id": "045f8c8b",
   "metadata": {},
   "source": [
    "1. Fit the Random Forest classifier to your training sample and transform (i.e. make predictions on the training sample) setting the random_state accordingly and setting min_samples_leaf = 1 and max_depth = 10."
   ]
  },
  {
   "cell_type": "code",
   "execution_count": 210,
   "id": "d3124fc4",
   "metadata": {},
   "outputs": [],
   "source": [
    "# min_sample_leaf=1 / max_depth=10 - Accuracy of random forest classifier on training set: 0.97"
   ]
  },
  {
   "cell_type": "code",
   "execution_count": 211,
   "id": "00c1617f",
   "metadata": {},
   "outputs": [],
   "source": [
    "# create model\n",
    "rf1_clf = RandomForestClassifier(max_depth=10, min_samples_leaf=1, random_state=123)  "
   ]
  },
  {
   "cell_type": "code",
   "execution_count": 212,
   "id": "25a70419",
   "metadata": {},
   "outputs": [
    {
     "data": {
      "text/plain": [
       "RandomForestClassifier(max_depth=10, random_state=123)"
      ]
     },
     "execution_count": 212,
     "metadata": {},
     "output_type": "execute_result"
    }
   ],
   "source": [
    "rf1_clf"
   ]
  },
  {
   "cell_type": "code",
   "execution_count": 213,
   "id": "382b0410",
   "metadata": {},
   "outputs": [
    {
     "data": {
      "text/plain": [
       "RandomForestClassifier(max_depth=10, random_state=123)"
      ]
     },
     "execution_count": 213,
     "metadata": {},
     "output_type": "execute_result"
    }
   ],
   "source": [
    "rf1_clf.fit(X_train, y_train)"
   ]
  },
  {
   "cell_type": "code",
   "execution_count": 214,
   "id": "9b795c88",
   "metadata": {},
   "outputs": [
    {
     "name": "stdout",
     "output_type": "stream",
     "text": [
      "[0.23385239 0.09052441 0.05149459 0.03453432 0.22859942 0.02186412\n",
      " 0.30248482 0.0108785  0.02576743]\n"
     ]
    }
   ],
   "source": [
    "print(rf1_clf.feature_importances_)"
   ]
  },
  {
   "cell_type": "code",
   "execution_count": 215,
   "id": "f8134c36",
   "metadata": {},
   "outputs": [
    {
     "data": {
      "text/plain": [
       "array([0, 1, 0, 1, 1, 0, 0, 0, 0, 0, 0, 0, 1, 0, 0, 0, 0, 1, 0, 0, 1, 0,\n",
       "       1, 1, 0, 0, 1, 0, 0, 0, 0, 0, 0, 1, 1, 0, 0, 1, 0, 1, 0, 0, 0, 1,\n",
       "       0, 0, 0, 0, 1, 0, 0, 0, 1, 1, 0, 1, 0, 1, 1, 0, 0, 0, 0, 0, 0, 0,\n",
       "       0, 0, 1, 1, 0, 0, 1, 1, 0, 0, 0, 0, 0, 1, 0, 1, 0, 0, 0, 0, 1, 1,\n",
       "       1, 0, 0, 0, 1, 1, 0, 0, 1, 0, 0, 1, 0, 0, 1, 0, 0, 1, 0, 1, 0, 0,\n",
       "       1, 1, 0, 0, 0, 1, 0, 0, 1, 1, 0, 0, 0, 0, 1, 1, 1, 0, 1, 0, 1, 0,\n",
       "       0, 1, 0, 0, 0, 0, 0, 0, 1, 0, 0, 0, 1, 1, 1, 1, 1, 1, 0, 1, 1, 0,\n",
       "       0, 1, 0, 0, 1, 0, 0, 1, 0, 1, 0, 0, 0, 0, 0, 0, 0, 1, 1, 0, 0, 0,\n",
       "       1, 0, 0, 1, 0, 0, 0, 1, 0, 1, 0, 1, 0, 1, 0, 1, 0, 0, 1, 1, 0, 1,\n",
       "       0, 0, 0, 1, 1, 0, 0, 0, 0, 0, 0, 1, 0, 0, 1, 1, 1, 1, 0, 0, 1, 0,\n",
       "       0, 0, 0, 1, 0, 0, 0, 0, 0, 1, 0, 0, 0, 0, 0, 1, 1, 0, 0, 0, 0, 0,\n",
       "       1, 0, 1, 0, 1, 0, 0, 1, 0, 0, 0, 1, 0, 1, 0, 1, 1, 1, 0, 0, 1, 1,\n",
       "       0, 0, 0, 1, 0, 0, 0, 0, 0, 1, 0, 0, 0, 0, 0, 0, 0, 1, 0, 1, 0, 0,\n",
       "       1, 1, 0, 0, 0, 0, 0, 0, 0, 1, 0, 0, 0, 0, 0, 0, 0, 1, 0, 0, 1, 0,\n",
       "       0, 0, 0, 0, 0, 1, 0, 0, 0, 1, 1, 0, 0, 0, 1, 0, 0, 1, 1, 0, 1, 1,\n",
       "       0, 1, 1, 1, 1, 1, 0, 1, 0, 0, 0, 1, 1, 1, 0, 1, 0, 0, 0, 0, 1, 0,\n",
       "       1, 1, 1, 1, 1, 0, 0, 1, 0, 1, 1, 0, 0, 0, 1, 0, 0, 0, 0, 0, 1, 0,\n",
       "       1, 0, 1, 0, 1, 1, 1, 1, 1, 0, 0, 1, 0, 1, 0, 0, 0, 1, 0, 0, 1, 0,\n",
       "       1, 0, 0, 0, 0, 1, 0, 0, 0, 0, 0, 0, 0, 0, 0, 0, 0, 0, 1, 1, 1, 0,\n",
       "       1, 0, 1, 0, 0, 1, 0, 1, 0, 1, 0, 0, 0, 0, 0, 0, 1, 0, 0, 0, 1, 0,\n",
       "       0, 0, 0, 0, 0, 1, 0, 0, 1, 0, 1, 1, 0, 0, 1, 0, 0, 0, 0, 0, 0, 0,\n",
       "       1, 0, 0, 1, 1, 0, 1, 0, 1, 0, 0, 0, 0, 0, 1, 0, 0, 0, 1, 1, 1, 1,\n",
       "       0, 1, 0, 1, 0, 1, 1, 0, 1, 0, 0, 0, 0, 0])"
      ]
     },
     "execution_count": 215,
     "metadata": {},
     "output_type": "execute_result"
    }
   ],
   "source": [
    "y_pred = rf1_clf.predict(X_train)\n",
    "y_pred"
   ]
  },
  {
   "cell_type": "code",
   "execution_count": 216,
   "id": "0bf7296a",
   "metadata": {},
   "outputs": [],
   "source": [
    "y_pred_proba = rf1_clf.predict_proba(X_train)"
   ]
  },
  {
   "cell_type": "code",
   "execution_count": 217,
   "id": "274b953e",
   "metadata": {},
   "outputs": [
    {
     "name": "stdout",
     "output_type": "stream",
     "text": [
      "Accuracy of random forest classifier on training set: 0.97\n"
     ]
    }
   ],
   "source": [
    "print('Accuracy of random forest classifier on training set: {:.2f}'\n",
    "     .format(rf1_clf.score(X_train, y_train)))"
   ]
  },
  {
   "cell_type": "code",
   "execution_count": 256,
   "id": "bc657b5b",
   "metadata": {},
   "outputs": [],
   "source": [
    "#for i in range(5, 16):\n",
    "#    # Make the model\n",
    "#    forest = RandomForestClassifier(max_depth=2, min_samples_leaf=1, random_state=123)\n",
    "\n",
    "#    # Fit the model (on train and only train)\n",
    "#    forest = forest.fit(X_train, y_train)\n",
    "\n",
    "#    # Use the model\n",
    "#    # We'll evaluate the model's performance on train, first\n",
    "#    y_pred = forest.predict(X_train)\n",
    "\n",
    "#    # Produce the classification report on the actual y values and this model's predicted y values\n",
    "#    report = classification_report(y_train, y_pred, output_dict=True)\n",
    "#    print(f\"Tree with max depth of {i}\")\n",
    "#    print(pd.DataFrame(report))\n",
    "#    print()"
   ]
  },
  {
   "cell_type": "markdown",
   "id": "703d2a7c",
   "metadata": {},
   "source": [
    "2. Evaluate your results using the model score, confusion matrix, and classification report."
   ]
  },
  {
   "cell_type": "code",
   "execution_count": 219,
   "id": "dcf3ee8a",
   "metadata": {},
   "outputs": [
    {
     "name": "stdout",
     "output_type": "stream",
     "text": [
      "Accuracy of random forest classifier on training set: 0.97\n"
     ]
    }
   ],
   "source": [
    "print('Accuracy of random forest classifier on training set: {:.2f}'\n",
    "     .format(rf1_clf.score(X_train, y_train)))"
   ]
  },
  {
   "cell_type": "code",
   "execution_count": 220,
   "id": "c4d995e4",
   "metadata": {},
   "outputs": [
    {
     "name": "stdout",
     "output_type": "stream",
     "text": [
      "[[285  22]\n",
      " [ 68 123]]\n"
     ]
    }
   ],
   "source": [
    "print(confusion_matrix(y_train, y_pred))"
   ]
  },
  {
   "cell_type": "code",
   "execution_count": 221,
   "id": "b6d10b43",
   "metadata": {},
   "outputs": [
    {
     "data": {
      "text/html": [
       "<div>\n",
       "<style scoped>\n",
       "    .dataframe tbody tr th:only-of-type {\n",
       "        vertical-align: middle;\n",
       "    }\n",
       "\n",
       "    .dataframe tbody tr th {\n",
       "        vertical-align: top;\n",
       "    }\n",
       "\n",
       "    .dataframe thead th {\n",
       "        text-align: right;\n",
       "    }\n",
       "</style>\n",
       "<table border=\"1\" class=\"dataframe\">\n",
       "  <thead>\n",
       "    <tr style=\"text-align: right;\">\n",
       "      <th></th>\n",
       "      <th>0</th>\n",
       "      <th>1</th>\n",
       "    </tr>\n",
       "  </thead>\n",
       "  <tbody>\n",
       "    <tr>\n",
       "      <th>0</th>\n",
       "      <td>285</td>\n",
       "      <td>22</td>\n",
       "    </tr>\n",
       "    <tr>\n",
       "      <th>1</th>\n",
       "      <td>68</td>\n",
       "      <td>123</td>\n",
       "    </tr>\n",
       "  </tbody>\n",
       "</table>\n",
       "</div>"
      ],
      "text/plain": [
       "     0    1\n",
       "0  285   22\n",
       "1   68  123"
      ]
     },
     "execution_count": 221,
     "metadata": {},
     "output_type": "execute_result"
    }
   ],
   "source": [
    "pd.DataFrame(confusion_matrix(y_train, y_pred))"
   ]
  },
  {
   "cell_type": "code",
   "execution_count": 224,
   "id": "6054ad78",
   "metadata": {},
   "outputs": [
    {
     "name": "stdout",
     "output_type": "stream",
     "text": [
      "              precision    recall  f1-score   support\n",
      "\n",
      "           0       0.81      0.93      0.86       307\n",
      "           1       0.85      0.64      0.73       191\n",
      "\n",
      "    accuracy                           0.82       498\n",
      "   macro avg       0.83      0.79      0.80       498\n",
      "weighted avg       0.82      0.82      0.81       498\n",
      "\n"
     ]
    }
   ],
   "source": [
    "print(classification_report(y_train, y_pred))"
   ]
  },
  {
   "cell_type": "code",
   "execution_count": 225,
   "id": "ca5be9db",
   "metadata": {},
   "outputs": [
    {
     "name": "stdout",
     "output_type": "stream",
     "text": [
      "Tree1 depth\n"
     ]
    },
    {
     "data": {
      "text/html": [
       "<div>\n",
       "<style scoped>\n",
       "    .dataframe tbody tr th:only-of-type {\n",
       "        vertical-align: middle;\n",
       "    }\n",
       "\n",
       "    .dataframe tbody tr th {\n",
       "        vertical-align: top;\n",
       "    }\n",
       "\n",
       "    .dataframe thead th {\n",
       "        text-align: right;\n",
       "    }\n",
       "</style>\n",
       "<table border=\"1\" class=\"dataframe\">\n",
       "  <thead>\n",
       "    <tr style=\"text-align: right;\">\n",
       "      <th></th>\n",
       "      <th>0</th>\n",
       "      <th>1</th>\n",
       "      <th>accuracy</th>\n",
       "      <th>macro avg</th>\n",
       "      <th>weighted avg</th>\n",
       "    </tr>\n",
       "  </thead>\n",
       "  <tbody>\n",
       "    <tr>\n",
       "      <th>precision</th>\n",
       "      <td>0.807365</td>\n",
       "      <td>0.848276</td>\n",
       "      <td>0.819277</td>\n",
       "      <td>0.827821</td>\n",
       "      <td>0.823056</td>\n",
       "    </tr>\n",
       "    <tr>\n",
       "      <th>recall</th>\n",
       "      <td>0.928339</td>\n",
       "      <td>0.643979</td>\n",
       "      <td>0.819277</td>\n",
       "      <td>0.786159</td>\n",
       "      <td>0.819277</td>\n",
       "    </tr>\n",
       "    <tr>\n",
       "      <th>f1-score</th>\n",
       "      <td>0.863636</td>\n",
       "      <td>0.732143</td>\n",
       "      <td>0.819277</td>\n",
       "      <td>0.797890</td>\n",
       "      <td>0.813204</td>\n",
       "    </tr>\n",
       "    <tr>\n",
       "      <th>support</th>\n",
       "      <td>307.000000</td>\n",
       "      <td>191.000000</td>\n",
       "      <td>0.819277</td>\n",
       "      <td>498.000000</td>\n",
       "      <td>498.000000</td>\n",
       "    </tr>\n",
       "  </tbody>\n",
       "</table>\n",
       "</div>"
      ],
      "text/plain": [
       "                    0           1  accuracy   macro avg  weighted avg\n",
       "precision    0.807365    0.848276  0.819277    0.827821      0.823056\n",
       "recall       0.928339    0.643979  0.819277    0.786159      0.819277\n",
       "f1-score     0.863636    0.732143  0.819277    0.797890      0.813204\n",
       "support    307.000000  191.000000  0.819277  498.000000    498.000000"
      ]
     },
     "execution_count": 225,
     "metadata": {},
     "output_type": "execute_result"
    }
   ],
   "source": [
    "class_report = classification_report(y_train, y_pred, output_dict=(True))\n",
    "print(\"Tree1 depth\")\n",
    "pd.DataFrame(class_report)"
   ]
  },
  {
   "cell_type": "markdown",
   "id": "a200f261",
   "metadata": {},
   "source": [
    "3. Print and clearly label the following:  Accuracy, true positive rate, false positive rate, true negative rate, false negative rate, precision, recall, f1-score, and support."
   ]
  },
  {
   "cell_type": "code",
   "execution_count": 223,
   "id": "084f076b",
   "metadata": {},
   "outputs": [
    {
     "name": "stdout",
     "output_type": "stream",
     "text": [
      "Accuracy: 0.8192771084337349\n",
      "True Positive Rate: 0.9283387622149837\n",
      "False Positive Rate: 0.35602094240837695\n",
      "True Negative Rate: 0.643979057591623\n",
      "False Negative Rate: 0.07166123778501629\n",
      "Precision: 0.8073654390934845\n",
      "Recall: 0.9283387622149837\n",
      "F1 Score: 0.8636363636363636\n",
      "Support (0): 307\n",
      "Support (1): 191\n"
     ]
    }
   ],
   "source": [
    "# If not-survived is our positive case\n",
    "TP = 285\n",
    "FP = 68\n",
    "FN = 22\n",
    "TN = 123\n",
    "ALL = TP + FP + FN + TN\n",
    "\n",
    "accuracy = (TP + TN)/ALL\n",
    "print(f\"Accuracy: {accuracy}\")\n",
    "\n",
    "true_positive_rate = TP/(TP+FN)\n",
    "print(f\"True Positive Rate: {true_positive_rate}\")\n",
    "\n",
    "false_positive_rate = FP/(FP+TN)\n",
    "print(f\"False Positive Rate: {false_positive_rate}\")\n",
    "\n",
    "true_negative_rate = TN/(TN+FP)\n",
    "print(f\"True Negative Rate: {true_negative_rate}\")\n",
    "\n",
    "false_negative_rate = FN/(FN+TP)\n",
    "print(f\"False Negative Rate: {false_negative_rate}\")\n",
    "\n",
    "precision = TP/(TP+FP)\n",
    "print(f\"Precision: {precision}\")\n",
    "\n",
    "recall = TP/(TP+FN)\n",
    "print(f\"Recall: {recall}\")\n",
    "\n",
    "f1_score = 2*(precision*recall)/(precision+recall)\n",
    "print(f\"F1 Score: {f1_score}\")\n",
    "\n",
    "support_pos = TP + FN\n",
    "print(f\"Support (0): {support_pos}\")\n",
    "\n",
    "support_neg = FP + TN\n",
    "print(f\"Support (1): {support_neg}\")"
   ]
  },
  {
   "cell_type": "markdown",
   "id": "0ef8a18c",
   "metadata": {},
   "source": [
    "4. Run through steps increasing your min_samples_leaf and decreasing your max_depth. "
   ]
  },
  {
   "cell_type": "code",
   "execution_count": 245,
   "id": "90d43e2f",
   "metadata": {},
   "outputs": [
    {
     "name": "stdout",
     "output_type": "stream",
     "text": [
      "Tree with max depth of 1\n",
      "               0      1  accuracy  macro avg  weighted avg\n",
      "precision    1.0    1.0       1.0        1.0           1.0\n",
      "recall       1.0    1.0       1.0        1.0           1.0\n",
      "f1-score     1.0    1.0       1.0        1.0           1.0\n",
      "support    307.0  191.0       1.0      498.0         498.0\n",
      "\n",
      "Tree with max depth of 2\n",
      "                    0           1  accuracy   macro avg  weighted avg\n",
      "precision    0.912121    0.964286  0.929719    0.938203      0.932128\n",
      "recall       0.980456    0.848168  0.929719    0.914312      0.929719\n",
      "f1-score     0.945055    0.902507  0.929719    0.923781      0.928736\n",
      "support    307.000000  191.000000  0.929719  498.000000    498.000000\n",
      "\n",
      "Tree with max depth of 3\n",
      "                    0           1  accuracy   macro avg  weighted avg\n",
      "precision    0.898507    0.963190  0.919679    0.930849      0.923315\n",
      "recall       0.980456    0.821990  0.919679    0.901223      0.919679\n",
      "f1-score     0.937695    0.887006  0.919679    0.912350      0.918254\n",
      "support    307.000000  191.000000  0.919679  498.000000    498.000000\n",
      "\n",
      "Tree with max depth of 4\n",
      "                    0           1  accuracy   macro avg  weighted avg\n",
      "precision    0.853448    0.933333   0.87751    0.893391      0.884087\n",
      "recall       0.967427    0.732984   0.87751    0.850206      0.877510\n",
      "f1-score     0.906870    0.821114   0.87751    0.863992      0.873980\n",
      "support    307.000000  191.000000   0.87751  498.000000    498.000000\n",
      "\n",
      "Tree with max depth of 5\n",
      "                    0           1  accuracy   macro avg  weighted avg\n",
      "precision    0.850575    0.926667  0.873494    0.888621      0.879759\n",
      "recall       0.964169    0.727749  0.873494    0.845959      0.873494\n",
      "f1-score     0.903817    0.815249  0.873494    0.859533      0.869848\n",
      "support    307.000000  191.000000  0.873494  498.000000    498.000000\n",
      "\n",
      "Tree with max depth of 6\n",
      "                    0           1  accuracy   macro avg  weighted avg\n",
      "precision    0.846377    0.901961  0.863454    0.874169      0.867695\n",
      "recall       0.951140    0.722513  0.863454    0.836827      0.863454\n",
      "f1-score     0.895706    0.802326  0.863454    0.849016      0.859891\n",
      "support    307.000000  191.000000  0.863454  498.000000    498.000000\n",
      "\n",
      "Tree with max depth of 7\n",
      "                    0           1  accuracy   macro avg  weighted avg\n",
      "precision    0.838150    0.888158  0.853414    0.863154      0.857330\n",
      "recall       0.944625    0.706806  0.853414    0.825716      0.853414\n",
      "f1-score     0.888208    0.787172  0.853414    0.837690      0.849457\n",
      "support    307.000000  191.000000  0.853414  498.000000    498.000000\n",
      "\n",
      "Tree with max depth of 8\n",
      "                    0           1  accuracy   macro avg  weighted avg\n",
      "precision    0.835735    0.887417  0.851406    0.861576      0.855557\n",
      "recall       0.944625    0.701571  0.851406    0.823098      0.851406\n",
      "f1-score     0.886850    0.783626  0.851406    0.835238      0.847260\n",
      "support    307.000000  191.000000  0.851406  498.000000    498.000000\n",
      "\n",
      "Tree with max depth of 9\n",
      "                    0           1  accuracy   macro avg  weighted avg\n",
      "precision    0.827586    0.873333  0.841365    0.850460      0.845132\n",
      "recall       0.938111    0.685864  0.841365    0.811987      0.841365\n",
      "f1-score     0.879389    0.768328  0.841365    0.823859      0.836794\n",
      "support    307.000000  191.000000  0.841365  498.000000    498.000000\n",
      "\n",
      "Tree with max depth of 10\n",
      "                    0           1  accuracy   macro avg  weighted avg\n",
      "precision    0.820000    0.864865  0.833333    0.842432      0.837207\n",
      "recall       0.934853    0.670157  0.833333    0.802505      0.833333\n",
      "f1-score     0.873668    0.755162  0.833333    0.814415      0.828217\n",
      "support    307.000000  191.000000  0.833333  498.000000    498.000000\n",
      "\n",
      "Tree with max depth of 11\n",
      "                    0           1  accuracy   macro avg  weighted avg\n",
      "precision    0.823362    0.877551  0.839357    0.850456      0.844145\n",
      "recall       0.941368    0.675393  0.839357    0.808380      0.839357\n",
      "f1-score     0.878419    0.763314  0.839357    0.820867      0.834272\n",
      "support    307.000000  191.000000  0.839357  498.000000    498.000000\n",
      "\n",
      "Tree with max depth of 12\n",
      "                    0           1  accuracy   macro avg  weighted avg\n",
      "precision    0.820000    0.864865  0.833333    0.842432      0.837207\n",
      "recall       0.934853    0.670157  0.833333    0.802505      0.833333\n",
      "f1-score     0.873668    0.755162  0.833333    0.814415      0.828217\n",
      "support    307.000000  191.000000  0.833333  498.000000    498.000000\n",
      "\n",
      "Tree with max depth of 13\n",
      "                    0           1  accuracy   macro avg  weighted avg\n",
      "precision    0.822857    0.871622  0.837349    0.847239      0.841560\n",
      "recall       0.938111    0.675393  0.837349    0.806752      0.837349\n",
      "f1-score     0.876712    0.761062  0.837349    0.818887      0.832356\n",
      "support    307.000000  191.000000  0.837349  498.000000    498.000000\n",
      "\n",
      "Tree with max depth of 14\n",
      "                    0           1  accuracy   macro avg  weighted avg\n",
      "precision    0.803419    0.829932  0.811245    0.816675      0.813588\n",
      "recall       0.918567    0.638743  0.811245    0.778655      0.811245\n",
      "f1-score     0.857143    0.721893  0.811245    0.789518      0.805270\n",
      "support    307.000000  191.000000  0.811245  498.000000    498.000000\n",
      "\n",
      "Tree with max depth of 15\n",
      "                    0           1  accuracy   macro avg  weighted avg\n",
      "precision    0.769231    0.798507  0.777108    0.783869      0.780459\n",
      "recall       0.912052    0.560209  0.777108    0.736131      0.777108\n",
      "f1-score     0.834575    0.658462  0.777108    0.746518      0.767030\n",
      "support    307.000000  191.000000  0.777108  498.000000    498.000000\n",
      "\n"
     ]
    }
   ],
   "source": [
    "max_depth = 16\n",
    "\n",
    "for i in range(1, max_depth):\n",
    "    # Create Model\n",
    "    depth = max_depth - i\n",
    "    n = i\n",
    "    forest = RandomForestClassifier(max_depth=depth, min_samples_leaf=n, random_state=123)\n",
    "\n",
    "    # Fit the model (on train and only train)\n",
    "    forest = forest.fit(X_train, y_train)\n",
    "\n",
    "    # Use the model\n",
    "    # We'll evaluate the model's performance on train, first\n",
    "    y_pred = forest.predict(X_train)\n",
    "\n",
    "    # Produce the classification report on the actual y values and this model's predicted y values\n",
    "    report = classification_report(y_train, y_pred, output_dict=True)\n",
    "    print(f\"Tree with max depth of {i}\")\n",
    "    print(pd.DataFrame(report))\n",
    "    print()"
   ]
  },
  {
   "cell_type": "code",
   "execution_count": 246,
   "id": "b13d6065",
   "metadata": {},
   "outputs": [
    {
     "data": {
      "text/html": [
       "<div>\n",
       "<style scoped>\n",
       "    .dataframe tbody tr th:only-of-type {\n",
       "        vertical-align: middle;\n",
       "    }\n",
       "\n",
       "    .dataframe tbody tr th {\n",
       "        vertical-align: top;\n",
       "    }\n",
       "\n",
       "    .dataframe thead th {\n",
       "        text-align: right;\n",
       "    }\n",
       "</style>\n",
       "<table border=\"1\" class=\"dataframe\">\n",
       "  <thead>\n",
       "    <tr style=\"text-align: right;\">\n",
       "      <th></th>\n",
       "      <th>min_samples_per_leaf</th>\n",
       "      <th>max_depth</th>\n",
       "      <th>train_accuracy</th>\n",
       "      <th>validate_accuracy</th>\n",
       "      <th>difference</th>\n",
       "    </tr>\n",
       "  </thead>\n",
       "  <tbody>\n",
       "    <tr>\n",
       "      <th>0</th>\n",
       "      <td>1</td>\n",
       "      <td>15</td>\n",
       "      <td>1.000000</td>\n",
       "      <td>0.771028</td>\n",
       "      <td>0.228972</td>\n",
       "    </tr>\n",
       "    <tr>\n",
       "      <th>1</th>\n",
       "      <td>2</td>\n",
       "      <td>14</td>\n",
       "      <td>0.929719</td>\n",
       "      <td>0.775701</td>\n",
       "      <td>0.154018</td>\n",
       "    </tr>\n",
       "    <tr>\n",
       "      <th>2</th>\n",
       "      <td>3</td>\n",
       "      <td>13</td>\n",
       "      <td>0.919679</td>\n",
       "      <td>0.789720</td>\n",
       "      <td>0.129959</td>\n",
       "    </tr>\n",
       "    <tr>\n",
       "      <th>3</th>\n",
       "      <td>4</td>\n",
       "      <td>12</td>\n",
       "      <td>0.877510</td>\n",
       "      <td>0.799065</td>\n",
       "      <td>0.078445</td>\n",
       "    </tr>\n",
       "    <tr>\n",
       "      <th>4</th>\n",
       "      <td>5</td>\n",
       "      <td>11</td>\n",
       "      <td>0.873494</td>\n",
       "      <td>0.789720</td>\n",
       "      <td>0.083774</td>\n",
       "    </tr>\n",
       "    <tr>\n",
       "      <th>5</th>\n",
       "      <td>6</td>\n",
       "      <td>10</td>\n",
       "      <td>0.863454</td>\n",
       "      <td>0.785047</td>\n",
       "      <td>0.078407</td>\n",
       "    </tr>\n",
       "    <tr>\n",
       "      <th>6</th>\n",
       "      <td>7</td>\n",
       "      <td>9</td>\n",
       "      <td>0.853414</td>\n",
       "      <td>0.785047</td>\n",
       "      <td>0.068367</td>\n",
       "    </tr>\n",
       "    <tr>\n",
       "      <th>7</th>\n",
       "      <td>8</td>\n",
       "      <td>8</td>\n",
       "      <td>0.851406</td>\n",
       "      <td>0.785047</td>\n",
       "      <td>0.066359</td>\n",
       "    </tr>\n",
       "    <tr>\n",
       "      <th>8</th>\n",
       "      <td>9</td>\n",
       "      <td>7</td>\n",
       "      <td>0.841365</td>\n",
       "      <td>0.775701</td>\n",
       "      <td>0.065665</td>\n",
       "    </tr>\n",
       "    <tr>\n",
       "      <th>9</th>\n",
       "      <td>10</td>\n",
       "      <td>6</td>\n",
       "      <td>0.833333</td>\n",
       "      <td>0.780374</td>\n",
       "      <td>0.052960</td>\n",
       "    </tr>\n",
       "    <tr>\n",
       "      <th>10</th>\n",
       "      <td>11</td>\n",
       "      <td>5</td>\n",
       "      <td>0.839357</td>\n",
       "      <td>0.780374</td>\n",
       "      <td>0.058984</td>\n",
       "    </tr>\n",
       "    <tr>\n",
       "      <th>11</th>\n",
       "      <td>12</td>\n",
       "      <td>4</td>\n",
       "      <td>0.833333</td>\n",
       "      <td>0.780374</td>\n",
       "      <td>0.052960</td>\n",
       "    </tr>\n",
       "    <tr>\n",
       "      <th>12</th>\n",
       "      <td>13</td>\n",
       "      <td>3</td>\n",
       "      <td>0.837349</td>\n",
       "      <td>0.780374</td>\n",
       "      <td>0.056976</td>\n",
       "    </tr>\n",
       "    <tr>\n",
       "      <th>13</th>\n",
       "      <td>14</td>\n",
       "      <td>2</td>\n",
       "      <td>0.811245</td>\n",
       "      <td>0.785047</td>\n",
       "      <td>0.026198</td>\n",
       "    </tr>\n",
       "    <tr>\n",
       "      <th>14</th>\n",
       "      <td>15</td>\n",
       "      <td>1</td>\n",
       "      <td>0.777108</td>\n",
       "      <td>0.757009</td>\n",
       "      <td>0.020099</td>\n",
       "    </tr>\n",
       "  </tbody>\n",
       "</table>\n",
       "</div>"
      ],
      "text/plain": [
       "    min_samples_per_leaf  max_depth  train_accuracy  validate_accuracy  \\\n",
       "0                      1         15        1.000000           0.771028   \n",
       "1                      2         14        0.929719           0.775701   \n",
       "2                      3         13        0.919679           0.789720   \n",
       "3                      4         12        0.877510           0.799065   \n",
       "4                      5         11        0.873494           0.789720   \n",
       "5                      6         10        0.863454           0.785047   \n",
       "6                      7          9        0.853414           0.785047   \n",
       "7                      8          8        0.851406           0.785047   \n",
       "8                      9          7        0.841365           0.775701   \n",
       "9                     10          6        0.833333           0.780374   \n",
       "10                    11          5        0.839357           0.780374   \n",
       "11                    12          4        0.833333           0.780374   \n",
       "12                    13          3        0.837349           0.780374   \n",
       "13                    14          2        0.811245           0.785047   \n",
       "14                    15          1        0.777108           0.757009   \n",
       "\n",
       "    difference  \n",
       "0     0.228972  \n",
       "1     0.154018  \n",
       "2     0.129959  \n",
       "3     0.078445  \n",
       "4     0.083774  \n",
       "5     0.078407  \n",
       "6     0.068367  \n",
       "7     0.066359  \n",
       "8     0.065665  \n",
       "9     0.052960  \n",
       "10    0.058984  \n",
       "11    0.052960  \n",
       "12    0.056976  \n",
       "13    0.026198  \n",
       "14    0.020099  "
      ]
     },
     "execution_count": 246,
     "metadata": {},
     "output_type": "execute_result"
    }
   ],
   "source": [
    "metrics = []\n",
    "max_depth = 16\n",
    "\n",
    "for i in range(1, max_depth):\n",
    "    # Create model\n",
    "    depth = max_depth - i\n",
    "    n = i\n",
    "    forest = RandomForestClassifier(max_depth=depth, min_samples_leaf=n, random_state=123)\n",
    "\n",
    "    # Fit the model (on train and only train)\n",
    "    forest = forest.fit(X_train, y_train)\n",
    "\n",
    "    # Use the model\n",
    "    # We'll evaluate the model's performance on train, first\n",
    "    in_sample_accuracy = forest.score(X_train, y_train)\n",
    "    \n",
    "    out_of_sample_accuracy = forest.score(x_validate, y_validate)\n",
    "\n",
    "    output = {\n",
    "        \"min_samples_per_leaf\": n,\n",
    "        \"max_depth\": depth,\n",
    "        \"train_accuracy\": in_sample_accuracy,\n",
    "        \"validate_accuracy\": out_of_sample_accuracy\n",
    "    }\n",
    "    \n",
    "    metrics.append(output)\n",
    "    \n",
    "df = pd.DataFrame(metrics)\n",
    "df[\"difference\"] = df.train_accuracy - df.validate_accuracy\n",
    "df"
   ]
  },
  {
   "cell_type": "markdown",
   "id": "455bc578",
   "metadata": {},
   "source": [
    "5. What are the differences in the evaluation metrics?  Which performs better on your in-sample data?  Why?"
   ]
  },
  {
   "cell_type": "code",
   "execution_count": 261,
   "id": "1e3e559c",
   "metadata": {},
   "outputs": [
    {
     "data": {
      "text/html": [
       "<div>\n",
       "<style scoped>\n",
       "    .dataframe tbody tr th:only-of-type {\n",
       "        vertical-align: middle;\n",
       "    }\n",
       "\n",
       "    .dataframe tbody tr th {\n",
       "        vertical-align: top;\n",
       "    }\n",
       "\n",
       "    .dataframe thead th {\n",
       "        text-align: right;\n",
       "    }\n",
       "</style>\n",
       "<table border=\"1\" class=\"dataframe\">\n",
       "  <thead>\n",
       "    <tr style=\"text-align: right;\">\n",
       "      <th></th>\n",
       "      <th>min_samples_per_leaf</th>\n",
       "      <th>max_depth</th>\n",
       "      <th>train_accuracy</th>\n",
       "      <th>validate_accuracy</th>\n",
       "      <th>difference</th>\n",
       "    </tr>\n",
       "  </thead>\n",
       "  <tbody>\n",
       "    <tr>\n",
       "      <th>0</th>\n",
       "      <td>1</td>\n",
       "      <td>15</td>\n",
       "      <td>1.000000</td>\n",
       "      <td>0.771028</td>\n",
       "      <td>0.228972</td>\n",
       "    </tr>\n",
       "    <tr>\n",
       "      <th>1</th>\n",
       "      <td>2</td>\n",
       "      <td>14</td>\n",
       "      <td>0.929719</td>\n",
       "      <td>0.775701</td>\n",
       "      <td>0.154018</td>\n",
       "    </tr>\n",
       "    <tr>\n",
       "      <th>2</th>\n",
       "      <td>3</td>\n",
       "      <td>13</td>\n",
       "      <td>0.919679</td>\n",
       "      <td>0.789720</td>\n",
       "      <td>0.129959</td>\n",
       "    </tr>\n",
       "    <tr>\n",
       "      <th>3</th>\n",
       "      <td>4</td>\n",
       "      <td>12</td>\n",
       "      <td>0.877510</td>\n",
       "      <td>0.799065</td>\n",
       "      <td>0.078445</td>\n",
       "    </tr>\n",
       "    <tr>\n",
       "      <th>4</th>\n",
       "      <td>5</td>\n",
       "      <td>11</td>\n",
       "      <td>0.873494</td>\n",
       "      <td>0.789720</td>\n",
       "      <td>0.083774</td>\n",
       "    </tr>\n",
       "    <tr>\n",
       "      <th>5</th>\n",
       "      <td>6</td>\n",
       "      <td>10</td>\n",
       "      <td>0.863454</td>\n",
       "      <td>0.785047</td>\n",
       "      <td>0.078407</td>\n",
       "    </tr>\n",
       "    <tr>\n",
       "      <th>6</th>\n",
       "      <td>7</td>\n",
       "      <td>9</td>\n",
       "      <td>0.853414</td>\n",
       "      <td>0.785047</td>\n",
       "      <td>0.068367</td>\n",
       "    </tr>\n",
       "    <tr>\n",
       "      <th>7</th>\n",
       "      <td>8</td>\n",
       "      <td>8</td>\n",
       "      <td>0.851406</td>\n",
       "      <td>0.785047</td>\n",
       "      <td>0.066359</td>\n",
       "    </tr>\n",
       "    <tr>\n",
       "      <th>8</th>\n",
       "      <td>9</td>\n",
       "      <td>7</td>\n",
       "      <td>0.841365</td>\n",
       "      <td>0.775701</td>\n",
       "      <td>0.065665</td>\n",
       "    </tr>\n",
       "    <tr>\n",
       "      <th>9</th>\n",
       "      <td>10</td>\n",
       "      <td>6</td>\n",
       "      <td>0.833333</td>\n",
       "      <td>0.780374</td>\n",
       "      <td>0.052960</td>\n",
       "    </tr>\n",
       "    <tr>\n",
       "      <th>10</th>\n",
       "      <td>11</td>\n",
       "      <td>5</td>\n",
       "      <td>0.839357</td>\n",
       "      <td>0.780374</td>\n",
       "      <td>0.058984</td>\n",
       "    </tr>\n",
       "    <tr>\n",
       "      <th>11</th>\n",
       "      <td>12</td>\n",
       "      <td>4</td>\n",
       "      <td>0.833333</td>\n",
       "      <td>0.780374</td>\n",
       "      <td>0.052960</td>\n",
       "    </tr>\n",
       "    <tr>\n",
       "      <th>12</th>\n",
       "      <td>13</td>\n",
       "      <td>3</td>\n",
       "      <td>0.837349</td>\n",
       "      <td>0.780374</td>\n",
       "      <td>0.056976</td>\n",
       "    </tr>\n",
       "    <tr>\n",
       "      <th>13</th>\n",
       "      <td>14</td>\n",
       "      <td>2</td>\n",
       "      <td>0.811245</td>\n",
       "      <td>0.785047</td>\n",
       "      <td>0.026198</td>\n",
       "    </tr>\n",
       "    <tr>\n",
       "      <th>14</th>\n",
       "      <td>15</td>\n",
       "      <td>1</td>\n",
       "      <td>0.777108</td>\n",
       "      <td>0.757009</td>\n",
       "      <td>0.020099</td>\n",
       "    </tr>\n",
       "  </tbody>\n",
       "</table>\n",
       "</div>"
      ],
      "text/plain": [
       "    min_samples_per_leaf  max_depth  train_accuracy  validate_accuracy  \\\n",
       "0                      1         15        1.000000           0.771028   \n",
       "1                      2         14        0.929719           0.775701   \n",
       "2                      3         13        0.919679           0.789720   \n",
       "3                      4         12        0.877510           0.799065   \n",
       "4                      5         11        0.873494           0.789720   \n",
       "5                      6         10        0.863454           0.785047   \n",
       "6                      7          9        0.853414           0.785047   \n",
       "7                      8          8        0.851406           0.785047   \n",
       "8                      9          7        0.841365           0.775701   \n",
       "9                     10          6        0.833333           0.780374   \n",
       "10                    11          5        0.839357           0.780374   \n",
       "11                    12          4        0.833333           0.780374   \n",
       "12                    13          3        0.837349           0.780374   \n",
       "13                    14          2        0.811245           0.785047   \n",
       "14                    15          1        0.777108           0.757009   \n",
       "\n",
       "    difference  \n",
       "0     0.228972  \n",
       "1     0.154018  \n",
       "2     0.129959  \n",
       "3     0.078445  \n",
       "4     0.083774  \n",
       "5     0.078407  \n",
       "6     0.068367  \n",
       "7     0.066359  \n",
       "8     0.065665  \n",
       "9     0.052960  \n",
       "10    0.058984  \n",
       "11    0.052960  \n",
       "12    0.056976  \n",
       "13    0.026198  \n",
       "14    0.020099  "
      ]
     },
     "execution_count": 261,
     "metadata": {},
     "output_type": "execute_result"
    }
   ],
   "source": [
    "metrics = []\n",
    "max_depth = 16\n",
    "\n",
    "for i in range(1, max_depth):\n",
    "    # Create model\n",
    "    depth = max_depth - i\n",
    "    n = i\n",
    "    forest = RandomForestClassifier(max_depth=depth, min_samples_leaf=n, random_state=123)\n",
    "\n",
    "    # Fit the model (on train and only train)\n",
    "    forest = forest.fit(X_train, y_train)\n",
    "\n",
    "    # Use the model\n",
    "    # We'll evaluate the model's performance on train, first\n",
    "    in_sample_accuracy = forest.score(X_train, y_train)\n",
    "    \n",
    "    out_of_sample_accuracy = forest.score(x_validate, y_validate)\n",
    "\n",
    "    output = {\n",
    "        \"min_samples_per_leaf\": n,\n",
    "        \"max_depth\": depth,\n",
    "        \"train_accuracy\": in_sample_accuracy,\n",
    "        \"validate_accuracy\": out_of_sample_accuracy\n",
    "    }\n",
    "    \n",
    "    metrics.append(output)\n",
    "    \n",
    "df = pd.DataFrame(metrics)\n",
    "df[\"difference\"] = df.train_accuracy - df.validate_accuracy\n",
    "df"
   ]
  },
  {
   "cell_type": "markdown",
   "id": "16ed7410",
   "metadata": {},
   "source": [
    "After making a few models, which one has the best performance (or closest metrics) on both train and validate?"
   ]
  },
  {
   "cell_type": "code",
   "execution_count": 262,
   "id": "33e87ffc",
   "metadata": {},
   "outputs": [],
   "source": [
    "# min_samples_per_leaf\tmax_depth\ttrain_accuracy\tvalidate_accuracy\tdifference\n",
    "# 4\t                    12\t        0.877510\t    0.799065\t        0.078445"
   ]
  },
  {
   "cell_type": "code",
   "execution_count": null,
   "id": "d7dc4002",
   "metadata": {},
   "outputs": [],
   "source": []
  }
 ],
 "metadata": {
  "kernelspec": {
   "display_name": "Python 3",
   "language": "python",
   "name": "python3"
  },
  "language_info": {
   "codemirror_mode": {
    "name": "ipython",
    "version": 3
   },
   "file_extension": ".py",
   "mimetype": "text/x-python",
   "name": "python",
   "nbconvert_exporter": "python",
   "pygments_lexer": "ipython3",
   "version": "3.8.8"
  }
 },
 "nbformat": 4,
 "nbformat_minor": 5
}

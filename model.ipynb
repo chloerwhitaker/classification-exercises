{
 "cells": [
  {
   "cell_type": "markdown",
   "id": "3ba547a6",
   "metadata": {},
   "source": [
    "### Decicion Tree with the Titanic Data"
   ]
  },
  {
   "cell_type": "markdown",
   "id": "d59cd07e",
   "metadata": {},
   "source": [
    "1. What is your baseline prediction? What is your baseline accuracy? remember: your baseline prediction for a classification problem is predicting the most prevelant class in the training dataset (the mode). When you make those predictions, what is your accuracy? This is your baseline accuracy."
   ]
  },
  {
   "cell_type": "markdown",
   "id": "3bcf4e0d",
   "metadata": {},
   "source": [
    "2. Fit the decision tree classifier to your training sample and transform (i.e. make predictions on the training sample)\n"
   ]
  },
  {
   "cell_type": "markdown",
   "id": "86ac67c6",
   "metadata": {},
   "source": [
    "3. Evaluate your in-sample results using the model score, confusion matrix, and classification report.\n",
    "\n"
   ]
  },
  {
   "cell_type": "markdown",
   "id": "9a9522ae",
   "metadata": {},
   "source": [
    "4. Compute: Accuracy, true positive rate, false positive rate, true negative rate, false negative rate, precision, recall, f1-score, and support.\n",
    "\n"
   ]
  },
  {
   "cell_type": "markdown",
   "id": "35b2fb0a",
   "metadata": {},
   "source": [
    "5. Run through steps 2-4 using a different max_depth value.\n",
    "\n"
   ]
  },
  {
   "cell_type": "markdown",
   "id": "79ce0d13",
   "metadata": {},
   "source": [
    "6. Which model performs better on your in-sample data?\n",
    "\n"
   ]
  },
  {
   "cell_type": "markdown",
   "id": "0b124072",
   "metadata": {},
   "source": [
    "7. Which model performs best on your out-of-sample data, the validate set?"
   ]
  },
  {
   "cell_type": "markdown",
   "id": "20b07a1c",
   "metadata": {},
   "source": [
    "### Decicion Tree with the Telco Data"
   ]
  },
  {
   "cell_type": "markdown",
   "id": "faa5090b",
   "metadata": {},
   "source": [
    "1. Work through these same exercises using the Telco dataset."
   ]
  },
  {
   "cell_type": "markdown",
   "id": "b352c439",
   "metadata": {},
   "source": [
    "2. Experiment with this model on other datasets with a higher number of output classes."
   ]
  },
  {
   "cell_type": "markdown",
   "id": "eff9e0d6",
   "metadata": {},
   "source": [
    "### Decicion Tree with the Other Data"
   ]
  },
  {
   "cell_type": "code",
   "execution_count": null,
   "id": "d9da28c1",
   "metadata": {},
   "outputs": [],
   "source": []
  }
 ],
 "metadata": {
  "kernelspec": {
   "display_name": "Python 3",
   "language": "python",
   "name": "python3"
  },
  "language_info": {
   "codemirror_mode": {
    "name": "ipython",
    "version": 3
   },
   "file_extension": ".py",
   "mimetype": "text/x-python",
   "name": "python",
   "nbconvert_exporter": "python",
   "pygments_lexer": "ipython3",
   "version": "3.8.8"
  }
 },
 "nbformat": 4,
 "nbformat_minor": 5
}
